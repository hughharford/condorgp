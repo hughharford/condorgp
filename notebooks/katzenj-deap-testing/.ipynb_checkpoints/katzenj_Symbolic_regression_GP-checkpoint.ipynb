{
 "cells": [
  {
   "cell_type": "code",
   "execution_count": 1,
   "id": "fa42c148-1bc6-4661-bf96-6d557c7cf283",
   "metadata": {},
   "outputs": [],
   "source": [
    "%load_ext autoreload\n",
    "%autoreload 2"
   ]
  },
  {
   "cell_type": "code",
   "execution_count": 2,
   "id": "d2f16637-6f90-4be4-8030-5485e82f2017",
   "metadata": {},
   "outputs": [],
   "source": [
    "import operator\n",
    "import math\n",
    "import random\n",
    "\n",
    "import numpy\n",
    "\n",
    "from deap import algorithms\n",
    "from deap import base\n",
    "from deap import creator\n",
    "from deap import tools\n",
    "from deap import gp"
   ]
  },
  {
   "cell_type": "code",
   "execution_count": 3,
   "id": "49fdc55b-4a97-414f-a408-4e25f5af3832",
   "metadata": {},
   "outputs": [],
   "source": [
    "def protectedDiv(left,right):\n",
    "    try:\n",
    "        return left / right\n",
    "    except ZeroDivisionError:\n",
    "        return 1\n",
    "\n",
    "pset = gp.PrimitiveSet(\"MAIN\", 1)\n",
    "pset.addPrimitive(operator.add, 2)\n",
    "pset.addPrimitive(operator.sub, 2)\n",
    "pset.addPrimitive(operator.mul, 2)\n",
    "pset.addPrimitive(protectedDiv, 2)\n",
    "pset.addPrimitive(operator.neg, 1,)\n",
    "pset.addPrimitive(math.cos, 1)\n",
    "pset.addPrimitive(math.sin, 1)\n",
    "pset.addEphemeralConstant(\"rand101\", lambda: random.randint(-1,1))"
   ]
  },
  {
   "cell_type": "code",
   "execution_count": 4,
   "id": "426ae000-9619-41b4-ac77-36738e87a7e7",
   "metadata": {},
   "outputs": [],
   "source": [
    "pset.renameArguments(ARG0='x')"
   ]
  },
  {
   "cell_type": "code",
   "execution_count": 5,
   "id": "a39e5665-2bf0-471f-ac9a-abe470e3413b",
   "metadata": {},
   "outputs": [],
   "source": [
    "# individual containing genotype and a fitness\n",
    "# make weight negative as is a minimisation problem\n",
    "creator.create(\"FitnessMin\", base.Fitness, weights=(-1.0,))\n",
    "creator.create(\"Individual\", gp.PrimitiveTree, fitness=creator.FitnessMin)"
   ]
  },
  {
   "cell_type": "code",
   "execution_count": 6,
   "id": "e01bc369-34d4-4fa4-92b4-092e828dd0e0",
   "metadata": {},
   "outputs": [],
   "source": [
    "toolbox = base.Toolbox()\n",
    "toolbox.register(\"expr\", gp.genHalfAndHalf, pset=pset, min_=1, max_=2)\n",
    "toolbox.register(\"individual\", tools.initIterate, creator.Individual, toolbox.expr)\n",
    "toolbox.register(\"population\", tools.initRepeat, list, toolbox.individual)\n",
    "toolbox.register(\"compile\", gp.compile, pset=pset)"
   ]
  },
  {
   "cell_type": "code",
   "execution_count": 7,
   "id": "8f99065c-0760-4ccb-9626-93bd41f022cd",
   "metadata": {},
   "outputs": [],
   "source": [
    "def evalSymbReg(individual, points):\n",
    "    # Transform the tree expression in a callable function\n",
    "    func = toolbox.compile(expr=individual)\n",
    "    # Evaluate the mean squared error between the expression\n",
    "    # and the real function : x**4 + x**3 + x**2 + x\n",
    "    sqerrors = ((func(x) - x**4 - x**3 - x**2 - x)**2 for x in points)\n",
    "    return math.fsum(sqerrors) / len(points),\n",
    "\n",
    "toolbox.register(\"evaluate\", evalSymbReg, points=[x/10. for x in range(-10,10)])\n",
    "toolbox.register(\"select\", tools.selTournament, tournsize=3)\n",
    "toolbox.register(\"mate\", gp.cxOnePoint)\n",
    "toolbox.register(\"expr_mut\", gp.genFull, min_=0, max_=2)\n",
    "toolbox.register(\"mutate\", gp.mutUniform, expr=toolbox.expr_mut, pset=pset)\n",
    "\n",
    "toolbox.decorate(\"mate\", gp.staticLimit(key=operator.attrgetter(\"height\"), max_value=17))\n",
    "toolbox.decorate(\"mutate\", gp.staticLimit(key=operator.attrgetter(\"height\"), max_value=17))"
   ]
  },
  {
   "cell_type": "code",
   "execution_count": 105,
   "id": "395d53e3-08ad-4551-98fe-8386211bfe0c",
   "metadata": {},
   "outputs": [],
   "source": [
    "def main():\n",
    "    random.seed(318)\n",
    "    history = tools.History()\n",
    "    # Decorate the variation operators\n",
    "    toolbox.decorate(\"mate\", history.decorator)\n",
    "    toolbox.decorate(\"mutate\", history.decorator)\n",
    "    \n",
    "    pop = toolbox.population(n=300)\n",
    "    history.update(pop)\n",
    "    hof = tools.HallOfFame(1)\n",
    "\n",
    "    stats_fit = tools.Statistics(lambda ind: ind.fitness.values)\n",
    "    stats_size = tools.Statistics(len)\n",
    "    mstats = tools.MultiStatistics(fitness=stats_fit, size=stats_size)\n",
    "    mstats.register(\"avg\", numpy.mean)\n",
    "    mstats.register(\"std\", numpy.std)\n",
    "    mstats.register(\"min\", numpy.min)\n",
    "    mstats.register(\"max\", numpy.max)\n",
    "\n",
    "    pop, log = algorithms.eaSimple(pop, toolbox, 0.5, 0.1, 40, stats=mstats,\n",
    "                                   halloffame=hof, verbose=True)\n",
    "    # print log\n",
    "    return pop, log, hof, history\n"
   ]
  },
  {
   "cell_type": "code",
   "execution_count": 106,
   "id": "f82a9f4a-039f-487e-a6e1-c610f18aafa6",
   "metadata": {},
   "outputs": [
    {
     "name": "stdout",
     "output_type": "stream",
     "text": [
      "   \t      \t                        fitness                        \t                      size                     \n",
      "   \t      \t-------------------------------------------------------\t-----------------------------------------------\n",
      "gen\tnevals\tavg    \tgen\tmax  \tmin     \tnevals\tstd    \tavg    \tgen\tmax\tmin\tnevals\tstd    \n",
      "0  \t300   \t1.78879\t0  \t30.34\t0.450825\t300   \t2.67896\t3.54667\t0  \t7  \t2  \t300   \t1.49482\n",
      "1  \t166   \t1.43254\t1  \t44.4437\t0.183711\t166   \t3.05668\t3.60667\t1  \t12 \t1  \t166   \t1.77725\n",
      "2  \t166   \t2.16879\t2  \t315.736\t0.165572\t166   \t18.1873\t3.55   \t2  \t9  \t1  \t166   \t1.62506\n",
      "3  \t163   \t0.98255\t3  \t2.9829 \t0.165572\t163   \t0.712666\t3.42667\t3  \t9  \t1  \t163   \t1.45073\n",
      "4  \t153   \t0.836017\t4  \t14.538 \t0.165572\t153   \t0.979399\t3.77   \t4  \t11 \t1  \t153   \t1.64025\n",
      "5  \t158   \t0.944635\t5  \t18.9739\t0.165572\t158   \t1.61614 \t3.77667\t5  \t10 \t1  \t158   \t1.62894\n",
      "6  \t169   \t0.885819\t6  \t14.2181\t0.165572\t169   \t1.00296 \t4      \t6  \t10 \t1  \t169   \t1.87617\n",
      "7  \t167   \t0.731332\t7  \t3.35292\t0.165572\t167   \t0.56016 \t4.35   \t7  \t10 \t1  \t167   \t1.92722\n",
      "8  \t187   \t0.785916\t8  \t19.1852\t0.13008 \t187   \t1.2426  \t5.13667\t8  \t14 \t1  \t187   \t2.21465\n",
      "9  \t176   \t0.672788\t9  \t14.2339\t0.123719\t176   \t1.00764 \t5.71667\t9  \t14 \t1  \t176   \t2.48389\n",
      "10 \t176   \t0.786975\t10 \t32.4952\t0.123719\t176   \t2.56679 \t6.27333\t10 \t15 \t1  \t176   \t2.33922\n",
      "11 \t167   \t0.961666\t11 \t62.7581\t0.123719\t167   \t4.10149 \t6.75667\t11 \t16 \t1  \t167   \t2.30162\n",
      "12 \t170   \t0.630202\t12 \t18.7613\t0.114276\t170   \t1.55098 \t7.06333\t12 \t16 \t1  \t170   \t2.55199\n",
      "13 \t173   \t0.792442\t13 \t18.7749\t0.114276\t173   \t2.0836  \t7.07333\t13 \t17 \t1  \t173   \t2.3212 \n",
      "14 \t163   \t0.701482\t14 \t16.5323\t0.0935121\t163   \t1.92386 \t7.01   \t14 \t16 \t1  \t163   \t2.74042\n",
      "15 \t178   \t0.796168\t15 \t63.2953\t0.0935121\t178   \t3.82723 \t7.42333\t15 \t17 \t1  \t178   \t3.11942\n",
      "16 \t154   \t0.446513\t16 \t19.0443\t0.0512969\t154   \t1.18016 \t7.73333\t16 \t17 \t1  \t154   \t3.35095\n",
      "17 \t177   \t0.378618\t17 \t4.88791\t0.0512969\t177   \t0.470854\t9.01   \t17 \t22 \t1  \t177   \t3.68464\n",
      "18 \t177   \t0.394816\t18 \t2.552  \t0.0512969\t177   \t0.45627 \t10.14  \t18 \t23 \t2  \t177   \t3.86097\n",
      "19 \t175   \t0.347051\t19 \t2.84707\t0.0147194\t175   \t0.428075\t11     \t19 \t24 \t1  \t175   \t4.21347\n",
      "20 \t167   \t0.370537\t20 \t18.9739\t0.0147194\t167   \t1.15424 \t11.6   \t20 \t25 \t3  \t167   \t4.13441\n",
      "21 \t159   \t0.302206\t21 \t2.54483\t0.0147194\t159   \t0.36307 \t12.78  \t21 \t33 \t1  \t159   \t5.04298\n",
      "22 \t161   \t0.329424\t22 \t5.15351\t0.014539 \t161   \t0.494736\t14.1033\t22 \t32 \t1  \t161   \t5.23762\n",
      "23 \t165   \t0.464998\t23 \t18.9739\t0.0147194\t165   \t1.51044 \t14.8933\t23 \t34 \t1  \t165   \t6.13259\n",
      "24 \t188   \t0.271713\t24 \t3.71933\t0.0147194\t188   \t0.436801\t15.0867\t24 \t34 \t2  \t188   \t6.25719\n",
      "25 \t152   \t0.269631\t25 \t14.5905\t0.0147194\t152   \t0.88428 \t15.22  \t25 \t47 \t1  \t152   \t6.49602\n",
      "26 \t164   \t0.230995\t26 \t4.4082 \t0.0147194\t164   \t0.436685\t16.0633\t26 \t41 \t3  \t164   \t6.52171\n",
      "27 \t159   \t0.185306\t27 \t5.249  \t0.0144201\t159   \t0.410217\t17.2333\t27 \t40 \t1  \t159   \t6.7111 \n",
      "28 \t164   \t0.165298\t28 \t1.98267\t0.0143442\t164   \t0.292591\t18.3   \t28 \t43 \t1  \t164   \t7.23763\n",
      "29 \t174   \t0.172642\t29 \t2.54124\t0.00182347\t174   \t0.352515\t18.33  \t29 \t37 \t1  \t174   \t6.69037\n",
      "30 \t141   \t0.10727 \t30 \t2.61126\t0.00182347\t141   \t0.241954\t19.3   \t30 \t37 \t3  \t141   \t5.483  \n",
      "31 \t154   \t0.129872\t31 \t2.18033\t0.00182347\t154   \t0.269947\t19.7933\t31 \t39 \t3  \t154   \t5.94788\n",
      "32 \t165   \t0.129453\t32 \t2.54124\t0.00182347\t165   \t0.287201\t20.2867\t32 \t43 \t1  \t165   \t6.5175 \n",
      "33 \t173   \t0.16656 \t33 \t2.54124\t0.00182347\t173   \t0.341339\t20.5633\t33 \t43 \t1  \t173   \t7.38823\n",
      "34 \t168   \t0.131975\t34 \t1.52568\t0.00182347\t168   \t0.232491\t20.4233\t34 \t48 \t3  \t168   \t7.45637\n",
      "35 \t153   \t0.152313\t35 \t2.54124\t0.00182347\t153   \t0.324276\t19.82  \t35 \t43 \t2  \t153   \t7.13589\n",
      "36 \t178   \t0.237937\t36 \t16.1106\t0.00182347\t178   \t0.990786\t19.11  \t36 \t43 \t3  \t178   \t7.68318\n",
      "37 \t157   \t0.185061\t37 \t4.76458\t0.00182347\t157   \t0.449021\t18.3667\t37 \t39 \t1  \t157   \t6.31128\n",
      "38 \t184   \t0.185972\t38 \t4.09456\t5.12297e-33\t184   \t0.358825\t17.4767\t38 \t48 \t1  \t184   \t7.37899\n",
      "39 \t149   \t0.193025\t39 \t2.9829 \t5.12297e-33\t149   \t0.377824\t16.87  \t39 \t35 \t1  \t149   \t5.85205\n",
      "40 \t161   \t0.127091\t40 \t1.59859\t5.12297e-33\t161   \t0.216044\t16.4767\t40 \t36 \t1  \t161   \t6.14948\n"
     ]
    }
   ],
   "source": [
    "pop, log, hof, history = main()"
   ]
  },
  {
   "cell_type": "code",
   "execution_count": 101,
   "id": "d9d15700-cd22-4460-8a80-8a94fb73d8e1",
   "metadata": {},
   "outputs": [
    {
     "name": "stdout",
     "output_type": "stream",
     "text": [
      "add(mul(x, sub(x, neg(mul(x, sub(x, neg(mul(x, x))))))), x)\n"
     ]
    }
   ],
   "source": [
    "print(hof.items[0])"
   ]
  },
  {
   "cell_type": "code",
   "execution_count": 96,
   "id": "d94bb755-9c5c-4f18-ae6f-416696c17b63",
   "metadata": {},
   "outputs": [],
   "source": [
    "import networkx"
   ]
  },
  {
   "cell_type": "code",
   "execution_count": 107,
   "id": "fccea7a1-a172-4b1f-98da-892e18333763",
   "metadata": {},
   "outputs": [
    {
     "data": {
      "image/png": "[encoded data removed]",
      "text/plain": [
       "<Figure size 432x288 with 1 Axes>"
      ]
     },
     "metadata": {},
     "output_type": "display_data"
    }
   ],
   "source": [
    "graph = networkx.DiGraph(history.genealogy_tree)\n",
    "graph = graph.reverse()     # Make the graph top-down\n",
    "colors = [toolbox.evaluate(history.genealogy_history[i])[0] for i in graph]\n",
    "networkx.draw(graph, node_color=colors)\n",
    "plt.show()"
   ]
  },
  {
   "cell_type": "code",
   "execution_count": null,
   "id": "2a2ddf05-ef41-4e9c-b62e-a13e7649f803",
   "metadata": {},
   "outputs": [],
   "source": []
  },
  {
   "cell_type": "code",
   "execution_count": null,
   "id": "6a875ed6-3f84-43fa-b6e2-41bdb211fce8",
   "metadata": {},
   "outputs": [],
   "source": []
  },
  {
   "cell_type": "code",
   "execution_count": 13,
   "id": "775ed413-7ba5-4e48-b450-62e3fcafaa61",
   "metadata": {},
   "outputs": [],
   "source": [
    "equation = \"add(mul(x, sub(x, neg(mul(x, sub(x, neg(mul(x, x))))))), x)\""
   ]
  },
  {
   "cell_type": "code",
   "execution_count": 14,
   "id": "84e13314-e6a9-4ff9-a5b5-188ba2e6f528",
   "metadata": {},
   "outputs": [
    {
     "data": {
      "text/plain": [
       "'add(mul(x, sub(x, neg(mul(x, sub(x, neg(mul(x, x))))))), x)'"
      ]
     },
     "execution_count": 14,
     "metadata": {},
     "output_type": "execute_result"
    }
   ],
   "source": [
    "equation"
   ]
  },
  {
   "cell_type": "code",
   "execution_count": 15,
   "id": "5cf473fb-8da1-434b-bed3-2cc16ee912ba",
   "metadata": {},
   "outputs": [
    {
     "data": {
      "text/plain": [
       "'\\npset.addPrimitive(operator.add, 2)\\npset.addPrimitive(operator.sub, 2)\\npset.addPrimitive(operator.mul, 2)\\npset.addPrimitive(protectedDiv, 2)\\npset.addPrimitive(operator.neg, 1,)\\npset.addPrimitive(math.cos, 1)\\npset.addPrimitive(math.sin, 1)\\npset.addEphemeralConstant(\"rand101\", lambda: random.randint(-1,1))\\n'"
      ]
     },
     "execution_count": 15,
     "metadata": {},
     "output_type": "execute_result"
    }
   ],
   "source": [
    "\"\"\"\n",
    "pset.addPrimitive(operator.add, 2)\n",
    "pset.addPrimitive(operator.sub, 2)\n",
    "pset.addPrimitive(operator.mul, 2)\n",
    "pset.addPrimitive(protectedDiv, 2)\n",
    "pset.addPrimitive(operator.neg, 1,)\n",
    "pset.addPrimitive(math.cos, 1)\n",
    "pset.addPrimitive(math.sin, 1)\n",
    "pset.addEphemeralConstant(\"rand101\", lambda: random.randint(-1,1))\n",
    "\"\"\""
   ]
  },
  {
   "cell_type": "code",
   "execution_count": 17,
   "id": "a0b74866-3cb0-42a8-80a0-3e5e36e502e0",
   "metadata": {},
   "outputs": [],
   "source": [
    "def gp_function(x):\n",
    "    return operator.add(operator.mul(x, operator.sub(x, operator.neg(operator.mul(x, operator.sub(x, operator.neg(operator.mul(x, x))))))), x)"
   ]
  },
  {
   "cell_type": "code",
   "execution_count": 19,
   "id": "65f23f46-9361-408e-8adb-f42367b7fb37",
   "metadata": {},
   "outputs": [],
   "source": [
    "import numpy as np\n",
    "import matplotlib.pyplot as plt"
   ]
  },
  {
   "cell_type": "code",
   "execution_count": 20,
   "id": "153e411d-fad4-437a-bfda-151af08b3424",
   "metadata": {},
   "outputs": [],
   "source": [
    "x = np.arange(-10,10,1)"
   ]
  },
  {
   "cell_type": "code",
   "execution_count": 21,
   "id": "ea5b5386-9945-4c15-a243-8f2a73103f08",
   "metadata": {},
   "outputs": [
    {
     "data": {
      "text/plain": [
       "array([-10,  -9,  -8,  -7,  -6,  -5,  -4,  -3,  -2,  -1,   0,   1,   2,\n",
       "         3,   4,   5,   6,   7,   8,   9])"
      ]
     },
     "execution_count": 21,
     "metadata": {},
     "output_type": "execute_result"
    }
   ],
   "source": [
    "x"
   ]
  },
  {
   "cell_type": "code",
   "execution_count": 22,
   "id": "5937b7f9-fd68-489a-b918-b56a9c7a158e",
   "metadata": {},
   "outputs": [
    {
     "data": {
      "text/plain": [
       "[9090,\n",
       " 5904,\n",
       " 3640,\n",
       " 2100,\n",
       " 1110,\n",
       " 520,\n",
       " 204,\n",
       " 60,\n",
       " 10,\n",
       " 0,\n",
       " 0,\n",
       " 4,\n",
       " 30,\n",
       " 120,\n",
       " 340,\n",
       " 780,\n",
       " 1554,\n",
       " 2800,\n",
       " 4680,\n",
       " 7380]"
      ]
     },
     "execution_count": 22,
     "metadata": {},
     "output_type": "execute_result"
    }
   ],
   "source": [
    "y = []\n",
    "for xval in x:\n",
    "    y.append(gp_function(xval))\n",
    "y"
   ]
  },
  {
   "cell_type": "code",
   "execution_count": 81,
   "id": "49333236-11db-4f84-a492-9d1d1fbdd193",
   "metadata": {},
   "outputs": [
    {
     "data": {
      "text/plain": [
       "<matplotlib.legend.Legend at 0x7fb97baaa940>"
      ]
     },
     "execution_count": 81,
     "metadata": {},
     "output_type": "execute_result"
    },
    {
     "data": {
      "image/png": "[encoded data removed]",
      "text/plain": [
       "<Figure size 432x288 with 1 Axes>"
      ]
     },
     "metadata": {
      "needs_background": "light"
     },
     "output_type": "display_data"
    }
   ],
   "source": [
    "# plt.plot(x,y, label=\"baseline40\")\n",
    "# plt.plot(x,yoriginal, label=\"baseline\")\n",
    "plt.plot(x,y3, label=\"3\")\n",
    "plt.plot(x,y10, label=\"10\")\n",
    "plt.plot(x,y20, label=\"20\")\n",
    "plt.plot(x,y30, label=\"30\")\n",
    "plt.plot(x,y35, label=\"35\")\n",
    "plt.plot(x,y38, label=\"38\")\n",
    "plt.legend()"
   ]
  },
  {
   "cell_type": "code",
   "execution_count": 25,
   "id": "9c388f5c-987d-404b-91ac-b73041248e0a",
   "metadata": {},
   "outputs": [],
   "source": [
    "def original(x):\n",
    "    return x**4 + x**3 + x**2 + x"
   ]
  },
  {
   "cell_type": "code",
   "execution_count": 26,
   "id": "0a7bda87-e5a7-41ca-ad16-98fbfaf652b0",
   "metadata": {},
   "outputs": [
    {
     "data": {
      "text/plain": [
       "[9090,\n",
       " 5904,\n",
       " 3640,\n",
       " 2100,\n",
       " 1110,\n",
       " 520,\n",
       " 204,\n",
       " 60,\n",
       " 10,\n",
       " 0,\n",
       " 0,\n",
       " 4,\n",
       " 30,\n",
       " 120,\n",
       " 340,\n",
       " 780,\n",
       " 1554,\n",
       " 2800,\n",
       " 4680,\n",
       " 7380]"
      ]
     },
     "execution_count": 26,
     "metadata": {},
     "output_type": "execute_result"
    }
   ],
   "source": [
    "yoriginal = []\n",
    "for xval in x:\n",
    "    yoriginal.append(original(xval))\n",
    "yoriginal"
   ]
  },
  {
   "cell_type": "code",
   "execution_count": 33,
   "id": "873fe3ff-fde4-4b2c-9ecc-f6cecb379b08",
   "metadata": {},
   "outputs": [],
   "source": [
    "def three_loops(x):\n",
    "    return operator.add(protectedDiv(operator.neg(x), protectedDiv(-1, x)), x)"
   ]
  },
  {
   "cell_type": "code",
   "execution_count": 34,
   "id": "98690177-0814-48e0-9972-5092660cd561",
   "metadata": {},
   "outputs": [
    {
     "name": "stderr",
     "output_type": "stream",
     "text": [
      "/tmp/ipykernel_1533/3937157518.py:3: RuntimeWarning: divide by zero encountered in long_scalars\n",
      "  return left / right\n"
     ]
    },
    {
     "data": {
      "text/plain": [
       "[90.0,\n",
       " 72.0,\n",
       " 56.0,\n",
       " 42.0,\n",
       " 30.0,\n",
       " 20.0,\n",
       " 12.0,\n",
       " 6.0,\n",
       " 2.0,\n",
       " 0.0,\n",
       " 0.0,\n",
       " 2.0,\n",
       " 6.0,\n",
       " 12.0,\n",
       " 20.0,\n",
       " 30.0,\n",
       " 42.0,\n",
       " 56.0,\n",
       " 72.0,\n",
       " 90.0]"
      ]
     },
     "execution_count": 34,
     "metadata": {},
     "output_type": "execute_result"
    }
   ],
   "source": [
    "y3 = []\n",
    "for xval in x:\n",
    "    y3.append(three_loops(xval))\n",
    "y3"
   ]
  },
  {
   "cell_type": "code",
   "execution_count": 39,
   "id": "96ce0f3e-f08a-441a-b2ca-3ccedd8a8cd3",
   "metadata": {},
   "outputs": [],
   "source": [
    "def ten(x):\n",
    "    return operator.add(math.sin(operator.mul(operator.add(math.cos(-1), operator.add(x, x)), x)), x)"
   ]
  },
  {
   "cell_type": "code",
   "execution_count": 41,
   "id": "aed37537-9089-48d8-94cf-cb0c45e65900",
   "metadata": {},
   "outputs": [
    {
     "data": {
      "text/plain": [
       "[-10.180768316508297,\n",
       " -8.942385354806998,\n",
       " -8.91498391855661,\n",
       " -7.029891295719999,\n",
       " -6.349326490130695,\n",
       " -5.1737129201417815,\n",
       " -4.999979905864606,\n",
       " -3.6218711635515697,\n",
       " -1.4058487181444124,\n",
       " -0.006165107895361621,\n",
       " 0.0,\n",
       " 1.5657069729657893,\n",
       " 2.3374186208499177,\n",
       " 3.697104497532888,\n",
       " 4.386016952426384,\n",
       " 5.648462956919492,\n",
       " 5.844227105607869,\n",
       " 7.9493469977866535,\n",
       " 8.366762852158269,\n",
       " 8.649307829263162]"
      ]
     },
     "execution_count": 41,
     "metadata": {},
     "output_type": "execute_result"
    }
   ],
   "source": [
    "y10 = []\n",
    "for xval in x:\n",
    "    y10.append(ten(xval))\n",
    "y10"
   ]
  },
  {
   "cell_type": "code",
   "execution_count": 48,
   "id": "3ea72a01-45db-4b7c-83b4-2b6583eb396f",
   "metadata": {},
   "outputs": [],
   "source": [
    "def twenty(x):\n",
    "    return operator.add(operator.mul(x, operator.sub(x, operator.neg(math.sin(operator.mul(operator.add(x, math.sin(operator.mul(operator.add(math.cos(-1), operator.add(x, x)), x))), x))))), x)"
   ]
  },
  {
   "cell_type": "code",
   "execution_count": 49,
   "id": "b52e4108-2704-4ad4-9d3e-6188d357aa31",
   "metadata": {},
   "outputs": [
    {
     "data": {
      "text/plain": [
       "[80.4293022445505,\n",
       " 80.38815869502817,\n",
       " 49.5548578823378,\n",
       " 48.09358979772911,\n",
       " 27.680925622573348,\n",
       " 16.644011345382093,\n",
       " 8.34835020978454,\n",
       " 8.974700925035538,\n",
       " 1.3521122045080092,\n",
       " -0.006165068840961685,\n",
       " 0.0,\n",
       " 2.9999870492667546,\n",
       " 4.00140996737977,\n",
       " 9.013738494345175,\n",
       " 16.13995307725049,\n",
       " 30.160068134369645,\n",
       " 39.082236054684344,\n",
       " 50.50264761022774,\n",
       " 65.44345402600825,\n",
       " 95.77069540525842]"
      ]
     },
     "execution_count": 49,
     "metadata": {},
     "output_type": "execute_result"
    }
   ],
   "source": [
    "y20 = []\n",
    "for xval in x:\n",
    "    y20.append(twenty(xval))\n",
    "y20"
   ]
  },
  {
   "cell_type": "code",
   "execution_count": 54,
   "id": "5c1b392e-c35b-4d49-9430-07f9b12bc7b6",
   "metadata": {},
   "outputs": [],
   "source": [
    "def thirty(x):\n",
    "    return operator.add(operator.mul(x, operator.sub(x, operator.neg(operator.mul(operator.add(x, math.sin(operator.mul(x, x))), x)))), x)"
   ]
  },
  {
   "cell_type": "code",
   "execution_count": 55,
   "id": "22a55823-ee7a-4d24-8a9a-8fe168b15992",
   "metadata": {},
   "outputs": [
    {
     "data": {
      "text/plain": [
       "[-960.636564110976,\n",
       " -708.0209275362307,\n",
       " -397.1183335554054,\n",
       " -347.7338799852141,\n",
       " -221.70403872395215,\n",
       " -108.30879375244433,\n",
       " -56.60645306664105,\n",
       " -17.290933632824192,\n",
       " -9.027209981231714,\n",
       " -0.1585290151921035,\n",
       " 0.0,\n",
       " 3.8414709848078967,\n",
       " 10.972790018768286,\n",
       " 42.70906636717581,\n",
       " 79.39354693335895,\n",
       " 151.69120624755567,\n",
       " 222.29596127604785,\n",
       " 352.2661200147859,\n",
       " 642.8816664445947,\n",
       " 767.9790724637693]"
      ]
     },
     "execution_count": 55,
     "metadata": {},
     "output_type": "execute_result"
    }
   ],
   "source": [
    "y30 = []\n",
    "for xval in x:\n",
    "    y30.append(thirty(xval))\n",
    "y30"
   ]
  },
  {
   "cell_type": "code",
   "execution_count": 64,
   "id": "21070783-299f-4f5e-8946-cf5a99171976",
   "metadata": {},
   "outputs": [],
   "source": [
    "def three5(x):\n",
    "    return operator.add(operator.mul(x, operator.sub(x, operator.neg(operator.mul(operator.add(x, math.sin(operator.mul(x, x))), x)))), x)"
   ]
  },
  {
   "cell_type": "code",
   "execution_count": 65,
   "id": "95fdf8fd-6bb6-4033-ba78-47304776916b",
   "metadata": {},
   "outputs": [
    {
     "data": {
      "text/plain": [
       "[-960.636564110976,\n",
       " -708.0209275362307,\n",
       " -397.1183335554054,\n",
       " -347.7338799852141,\n",
       " -221.70403872395215,\n",
       " -108.30879375244433,\n",
       " -56.60645306664105,\n",
       " -17.290933632824192,\n",
       " -9.027209981231714,\n",
       " -0.1585290151921035,\n",
       " 0.0,\n",
       " 3.8414709848078967,\n",
       " 10.972790018768286,\n",
       " 42.70906636717581,\n",
       " 79.39354693335895,\n",
       " 151.69120624755567,\n",
       " 222.29596127604785,\n",
       " 352.2661200147859,\n",
       " 642.8816664445947,\n",
       " 767.9790724637693]"
      ]
     },
     "execution_count": 65,
     "metadata": {},
     "output_type": "execute_result"
    }
   ],
   "source": [
    "y35 = []\n",
    "for xval in x:\n",
    "    y35.append(three5(xval))\n",
    "y35"
   ]
  },
  {
   "cell_type": "code",
   "execution_count": 79,
   "id": "764a53f2-0e6e-4af6-adc1-b2912ab8342c",
   "metadata": {},
   "outputs": [],
   "source": [
    "def t8(x):\n",
    "    return operator.add(operator.mul(x, operator.sub(x, operator.neg(operator.mul(x, operator.sub(x, operator.neg(operator.mul(x, x))))))), x)"
   ]
  },
  {
   "cell_type": "code",
   "execution_count": 80,
   "id": "1aac53a7-e752-45cb-b84f-3d0fef899b23",
   "metadata": {},
   "outputs": [
    {
     "data": {
      "text/plain": [
       "[9090,\n",
       " 5904,\n",
       " 3640,\n",
       " 2100,\n",
       " 1110,\n",
       " 520,\n",
       " 204,\n",
       " 60,\n",
       " 10,\n",
       " 0,\n",
       " 0,\n",
       " 4,\n",
       " 30,\n",
       " 120,\n",
       " 340,\n",
       " 780,\n",
       " 1554,\n",
       " 2800,\n",
       " 4680,\n",
       " 7380]"
      ]
     },
     "execution_count": 80,
     "metadata": {},
     "output_type": "execute_result"
    }
   ],
   "source": [
    "y38 = []\n",
    "for xval in x:\n",
    "    y38.append(t8(xval))\n",
    "y38"
   ]
  },
  {
   "cell_type": "code",
   "execution_count": 85,
   "id": "058e0281-e243-4270-935d-a3b387ca8749",
   "metadata": {},
   "outputs": [
    {
     "ename": "TypeError",
     "evalue": "'Individual' object is not callable",
     "output_type": "error",
     "traceback": [
      "\u001b[0;31m---------------------------------------------------------------------------\u001b[0m",
      "\u001b[0;31mTypeError\u001b[0m                                 Traceback (most recent call last)",
      "\u001b[0;32m/tmp/ipykernel_1533/29466280.py\u001b[0m in \u001b[0;36m<module>\u001b[0;34m\u001b[0m\n\u001b[0;32m----> 1\u001b[0;31m \u001b[0mhof\u001b[0m\u001b[0;34m[\u001b[0m\u001b[0;36m0\u001b[0m\u001b[0;34m]\u001b[0m\u001b[0;34m(\u001b[0m\u001b[0;36m1\u001b[0m\u001b[0;34m)\u001b[0m\u001b[0;34m\u001b[0m\u001b[0;34m\u001b[0m\u001b[0m\n\u001b[0m",
      "\u001b[0;31mTypeError\u001b[0m: 'Individual' object is not callable"
     ]
    }
   ],
   "source": [
    "hof[0](1)"
   ]
  },
  {
   "cell_type": "code",
   "execution_count": null,
   "id": "a7b49c2c-b351-4891-b6ca-b7956137d9e9",
   "metadata": {},
   "outputs": [],
   "source": []
  }
 ],
 "metadata": {
  "kernelspec": {
   "display_name": "Python 3 (ipykernel)",
   "language": "python",
   "name": "python3"
  },
  "language_info": {
   "codemirror_mode": {
    "name": "ipython",
    "version": 3
   },
   "file_extension": ".py",
   "mimetype": "text/x-python",
   "name": "python",
   "nbconvert_exporter": "python",
   "pygments_lexer": "ipython3",
   "version": "3.8.12"
  }
 },
 "nbformat": 4,
 "nbformat_minor": 5
}
