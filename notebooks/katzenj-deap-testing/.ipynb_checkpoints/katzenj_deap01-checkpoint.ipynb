{
 "cells": [
  {
   "cell_type": "code",
   "execution_count": 1,
   "id": "da610c54-1677-4e12-bb4d-7d288b62e56d",
   "metadata": {},
   "outputs": [],
   "source": [
    "%load_ext autoreload\n",
    "%autoreload 2"
   ]
  },
  {
   "cell_type": "markdown",
   "id": "296f88c9-a03a-4c2d-8fee-1863c56601db",
   "metadata": {},
   "source": [
    "### Setup"
   ]
  },
  {
   "cell_type": "code",
   "execution_count": 2,
   "id": "612d428a-7c9b-4b21-9f4a-d3caf2bff53e",
   "metadata": {},
   "outputs": [],
   "source": [
    "import random\n",
    "\n",
    "from deap import base\n",
    "from deap import creator\n",
    "from deap import tools"
   ]
  },
  {
   "cell_type": "markdown",
   "id": "bc2c02b9-315a-4ffc-bf6a-195f2e2500bd",
   "metadata": {},
   "source": [
    "### Creator"
   ]
  },
  {
   "cell_type": "code",
   "execution_count": 3,
   "id": "51869676-fe58-4ad3-af83-628e75ab9cb1",
   "metadata": {},
   "outputs": [],
   "source": [
    "creator.create(\"FitnessMax\", base.Fitness, weights=(1.0,))\n",
    "creator.create(\"Individual\", list, fitness=creator.FitnessMax)"
   ]
  },
  {
   "cell_type": "markdown",
   "id": "668956c7-7ba2-4e5a-a120-ac2374976244",
   "metadata": {},
   "source": [
    "### Toolbox"
   ]
  },
  {
   "cell_type": "code",
   "execution_count": 4,
   "id": "f3bfb526-1c7b-4a16-926b-5f84fa52bb31",
   "metadata": {},
   "outputs": [],
   "source": [
    "# creating types to represent our individuals as well as whole population\n",
    "toolbox = base.Toolbox()\n",
    "\n",
    "# Attribute generator\n",
    "toolbox.register(\"attr_bool\", random.randint, 0, 1)\n",
    "\n",
    "# Structure initialisers\n",
    "toolbox.register(\"individual\", tools.initRepeat, creator.Individual, toolbox.attr_bool, 100)\n",
    "toolbox.register(\"population\", tools.initRepeat, list, toolbox.individual)"
   ]
  },
  {
   "cell_type": "markdown",
   "id": "c8ead585-944d-42dc-bb30-0661a437210f",
   "metadata": {},
   "source": [
    "### Evaluation function"
   ]
  },
  {
   "cell_type": "code",
   "execution_count": 5,
   "id": "85868764-1446-4365-b154-bacde9c0eb51",
   "metadata": {},
   "outputs": [],
   "source": [
    "def evalOneMax(individual):\n",
    "    ''' simple - counts the number of oens in an individual'''\n",
    "    return sum(individual),"
   ]
  },
  {
   "cell_type": "markdown",
   "id": "197e4ded-f751-450f-bfdd-cd843ded555a",
   "metadata": {},
   "source": [
    "### Genetic Operators"
   ]
  },
  {
   "cell_type": "code",
   "execution_count": 7,
   "id": "7a465a4d-bc34-4eb1-8c79-098b8393efe6",
   "metadata": {},
   "outputs": [],
   "source": [
    "toolbox.register(\"evaluate\", evalOneMax)\n",
    "toolbox.register(\"mate\", tools.cxTwoPoint)\n",
    "toolbox.register(\"mutate\", tools.mutFlipBit, indpb=0.05) # 0.05 is prob of being mutated\n",
    "toolbox.register(\"select\", tools.selTournament, tournsize=2)"
   ]
  },
  {
   "cell_type": "markdown",
   "id": "2568cd0b-8127-4d6c-9c07-7b0f8cef3e0f",
   "metadata": {},
   "source": [
    "### Creating the Population"
   ]
  },
  {
   "cell_type": "code",
   "execution_count": 55,
   "id": "d5ac8521-c21b-4185-9399-e1af74fd9837",
   "metadata": {},
   "outputs": [],
   "source": [
    "def main():\n",
    "    # creates a list of 300 lists, each with 100 values of randomly 0 or 1\n",
    "    pop = toolbox.population(n=300)\n",
    "    # evaluate the entire population\n",
    "    # jk - creates a list of tuples of the sum of each of the 300 lists\n",
    "    fitnesses = list(map(toolbox.evaluate, pop))\n",
    "    for ind, fit in zip(pop, fitnesses):\n",
    "        ind.fitness.values = fit\n",
    "    \n",
    "    # CXPB prob that individuals are crossed\n",
    "    CXPB = 0.5\n",
    "    # MUTPB prob that inidividual is mutated\n",
    "    MUTPB = 0.2\n",
    "    \n",
    "    ## Performing the Evolution\n",
    "    # Extracting the fitnesses\n",
    "    fits = [ind.fitness.values[0] for ind in pop]\n",
    "    \n",
    "    # generations tracker\n",
    "    g = 0\n",
    "    \n",
    "    # begin evolution\n",
    "    while max(fits) < 100 and g < 1000:\n",
    "        # a new generation\n",
    "        g += 1\n",
    "        print(\"-- Generation %i --\" % g)\n",
    "    \n",
    "        # select the next gen individuals\n",
    "        offspring = toolbox.select(pop, len(pop))\n",
    "        # clone the selected individuals\n",
    "        offspring = list(map(toolbox.clone, offspring))\n",
    "\n",
    "        # apply crossover and mutation on the offspring\n",
    "        for child1, child2 in zip(offspring[::2], offspring[1::2]):\n",
    "            if random.random() < CXPB:\n",
    "                toolbox.mate(child1, child2)\n",
    "                del child1.fitness.values\n",
    "                del child2.fitness.values\n",
    "\n",
    "        for mutant in offspring:\n",
    "            if random.random() < MUTPB:\n",
    "                toolbox.mutate(mutant)\n",
    "                del mutant.fitness.values\n",
    "\n",
    "        # evaluate the individuals with an invalid fitness\n",
    "        invalid_ind = [ind for ind in offspring if not ind.fitness.valid]\n",
    "        fitnesses = map(toolbox.evaluate, invalid_ind)\n",
    "        for ind, fit in zip(invalid_ind, fitnesses):\n",
    "            ind.fitness.values = fit\n",
    "        pop[:] = offspring\n",
    "\n",
    "        # gather all the fitnesses in one list and print the stats\n",
    "        fits = [ind.fitness.values[0] for ind in pop]\n",
    "\n",
    "        length = len(pop)\n",
    "        mean = sum(fits) / length\n",
    "        sum2 = sum(x*x for x in fits)\n",
    "        std = abs(sum2 / length - mean**2)**0.5\n",
    "\n",
    "        print(\"  Min %s\" % min(fits))\n",
    "        print(\"  Max %s\" % max(fits))\n",
    "        print(\"  Avg %s\" % mean)\n",
    "        print(\"  Std %s\" % std)\n",
    "    print(\"-- End of (successful) evolution --\")\n",
    "\n",
    "    best_ind = tools.selBest(pop, 1)[0]\n",
    "    print(\"Best individual is %s, %s\" % (best_ind, best_ind.fitness.values))"
   ]
  },
  {
   "cell_type": "code",
   "execution_count": 56,
   "id": "5cfaf9af-e669-4903-bfc0-325780b5435c",
   "metadata": {},
   "outputs": [
    {
     "name": "stdout",
     "output_type": "stream",
     "text": [
      "-- Generation 1 --\n",
      "  Min 39.0\n",
      "  Max 62.0\n",
      "  Avg 52.35666666666667\n",
      "  Std 4.0974938139740225\n",
      "-- Generation 2 --\n",
      "  Min 44.0\n",
      "  Max 65.0\n",
      "  Avg 54.84\n",
      "  Std 3.7176695209049924\n",
      "-- Generation 3 --\n",
      "  Min 44.0\n",
      "  Max 68.0\n",
      "  Avg 56.71\n",
      "  Std 3.765532277558285\n",
      "-- Generation 4 --\n",
      "  Min 50.0\n",
      "  Max 68.0\n",
      "  Avg 58.836666666666666\n",
      "  Std 3.3451440759538027\n",
      "-- Generation 5 --\n",
      "  Min 49.0\n",
      "  Max 71.0\n",
      "  Avg 60.446666666666665\n",
      "  Std 3.4506746522318816\n",
      "-- Generation 6 --\n",
      "  Min 50.0\n",
      "  Max 72.0\n",
      "  Avg 62.05\n",
      "  Std 3.4824560298731777\n",
      "-- Generation 7 --\n",
      "  Min 56.0\n",
      "  Max 73.0\n",
      "  Avg 63.843333333333334\n",
      "  Std 3.427164360744245\n",
      "-- Generation 8 --\n",
      "  Min 53.0\n",
      "  Max 74.0\n",
      "  Avg 65.53333333333333\n",
      "  Std 3.4701905167039944\n",
      "-- Generation 9 --\n",
      "  Min 55.0\n",
      "  Max 77.0\n",
      "  Avg 67.30666666666667\n",
      "  Std 3.5250468870010008\n",
      "-- Generation 10 --\n",
      "  Min 57.0\n",
      "  Max 78.0\n",
      "  Avg 68.79666666666667\n",
      "  Std 3.226244807133508\n",
      "-- Generation 11 --\n",
      "  Min 60.0\n",
      "  Max 79.0\n",
      "  Avg 69.93\n",
      "  Std 2.97295027427847\n",
      "-- Generation 12 --\n",
      "  Min 63.0\n",
      "  Max 79.0\n",
      "  Avg 71.21\n",
      "  Std 2.7091019422188696\n",
      "-- Generation 13 --\n",
      "  Min 63.0\n",
      "  Max 79.0\n",
      "  Avg 72.37\n",
      "  Std 2.6993394253653693\n",
      "-- Generation 14 --\n",
      "  Min 63.0\n",
      "  Max 82.0\n",
      "  Avg 73.49\n",
      "  Std 2.7981958473274586\n",
      "-- Generation 15 --\n",
      "  Min 62.0\n",
      "  Max 81.0\n",
      "  Avg 74.48666666666666\n",
      "  Std 2.9331136281358825\n",
      "-- Generation 16 --\n",
      "  Min 66.0\n",
      "  Max 83.0\n",
      "  Avg 75.43666666666667\n",
      "  Std 2.7554773734429614\n",
      "-- Generation 17 --\n",
      "  Min 68.0\n",
      "  Max 83.0\n",
      "  Avg 76.34333333333333\n",
      "  Std 2.8069180409996255\n",
      "-- Generation 18 --\n",
      "  Min 68.0\n",
      "  Max 85.0\n",
      "  Avg 77.55333333333333\n",
      "  Std 2.9029563475114406\n",
      "-- Generation 19 --\n",
      "  Min 70.0\n",
      "  Max 86.0\n",
      "  Avg 78.65\n",
      "  Std 2.775037537283489\n",
      "-- Generation 20 --\n",
      "  Min 71.0\n",
      "  Max 86.0\n",
      "  Avg 79.57666666666667\n",
      "  Std 2.835040662063849\n",
      "-- Generation 21 --\n",
      "  Min 73.0\n",
      "  Max 88.0\n",
      "  Avg 80.51333333333334\n",
      "  Std 2.717196267396832\n",
      "-- Generation 22 --\n",
      "  Min 73.0\n",
      "  Max 89.0\n",
      "  Avg 81.32333333333334\n",
      "  Std 2.775870233918398\n",
      "-- Generation 23 --\n",
      "  Min 74.0\n",
      "  Max 89.0\n",
      "  Avg 82.17333333333333\n",
      "  Std 2.8254714454208587\n",
      "-- Generation 24 --\n",
      "  Min 71.0\n",
      "  Max 90.0\n",
      "  Avg 82.95333333333333\n",
      "  Std 2.685359483487229\n",
      "-- Generation 25 --\n",
      "  Min 76.0\n",
      "  Max 91.0\n",
      "  Avg 83.59\n",
      "  Std 2.787214858360532\n",
      "-- Generation 26 --\n",
      "  Min 76.0\n",
      "  Max 91.0\n",
      "  Avg 84.53666666666666\n",
      "  Std 2.679923299068364\n",
      "-- Generation 27 --\n",
      "  Min 76.0\n",
      "  Max 91.0\n",
      "  Avg 85.1\n",
      "  Std 2.671454036038656\n",
      "-- Generation 28 --\n",
      "  Min 76.0\n",
      "  Max 92.0\n",
      "  Avg 85.81333333333333\n",
      "  Std 2.737119329189404\n",
      "-- Generation 29 --\n",
      "  Min 76.0\n",
      "  Max 92.0\n",
      "  Avg 86.43\n",
      "  Std 2.7334532494018706\n",
      "-- Generation 30 --\n",
      "  Min 76.0\n",
      "  Max 93.0\n",
      "  Avg 87.21333333333334\n",
      "  Std 2.579629603041394\n",
      "-- Generation 31 --\n",
      "  Min 79.0\n",
      "  Max 95.0\n",
      "  Avg 87.96333333333334\n",
      "  Std 2.5156819265469728\n",
      "-- Generation 32 --\n",
      "  Min 79.0\n",
      "  Max 95.0\n",
      "  Avg 88.8\n",
      "  Std 2.4027761721253893\n",
      "-- Generation 33 --\n",
      "  Min 78.0\n",
      "  Max 95.0\n",
      "  Avg 89.38666666666667\n",
      "  Std 2.5200176366224745\n",
      "-- Generation 34 --\n",
      "  Min 78.0\n",
      "  Max 96.0\n",
      "  Avg 89.82\n",
      "  Std 2.750927116446603\n",
      "-- Generation 35 --\n",
      "  Min 80.0\n",
      "  Max 96.0\n",
      "  Avg 90.46666666666667\n",
      "  Std 2.6272080660316965\n",
      "-- Generation 36 --\n",
      "  Min 82.0\n",
      "  Max 96.0\n",
      "  Avg 91.16333333333333\n",
      "  Std 2.4596725165944058\n",
      "-- Generation 37 --\n",
      "  Min 78.0\n",
      "  Max 96.0\n",
      "  Avg 91.72666666666667\n",
      "  Std 2.6480097347921263\n",
      "-- Generation 38 --\n",
      "  Min 80.0\n",
      "  Max 96.0\n",
      "  Avg 92.14\n",
      "  Std 2.611589554275426\n",
      "-- Generation 39 --\n",
      "  Min 80.0\n",
      "  Max 97.0\n",
      "  Avg 92.54\n",
      "  Std 2.4795967414074047\n",
      "-- Generation 40 --\n",
      "  Min 83.0\n",
      "  Max 97.0\n",
      "  Avg 92.92333333333333\n",
      "  Std 2.5905190385113\n",
      "-- Generation 41 --\n",
      "  Min 84.0\n",
      "  Max 97.0\n",
      "  Avg 93.46666666666667\n",
      "  Std 2.6144895401499664\n",
      "-- Generation 42 --\n",
      "  Min 85.0\n",
      "  Max 97.0\n",
      "  Avg 93.86666666666666\n",
      "  Std 2.498443960192636\n",
      "-- Generation 43 --\n",
      "  Min 81.0\n",
      "  Max 99.0\n",
      "  Avg 94.03333333333333\n",
      "  Std 2.869184940400818\n",
      "-- Generation 44 --\n",
      "  Min 83.0\n",
      "  Max 99.0\n",
      "  Avg 94.58\n",
      "  Std 2.55282849665508\n",
      "-- Generation 45 --\n",
      "  Min 83.0\n",
      "  Max 99.0\n",
      "  Avg 95.01666666666667\n",
      "  Std 2.5928855654568155\n",
      "-- Generation 46 --\n",
      "  Min 86.0\n",
      "  Max 99.0\n",
      "  Avg 95.35666666666667\n",
      "  Std 2.552669626532463\n",
      "-- Generation 47 --\n",
      "  Min 86.0\n",
      "  Max 99.0\n",
      "  Avg 95.83666666666667\n",
      "  Std 2.5409949932170037\n",
      "-- Generation 48 --\n",
      "  Min 87.0\n",
      "  Max 100.0\n",
      "  Avg 96.16333333333333\n",
      "  Std 2.433787628825254\n",
      "-- End of (successful) evolution --\n",
      "Best individual is [1, 1, 1, 1, 1, 1, 1, 1, 1, 1, 1, 1, 1, 1, 1, 1, 1, 1, 1, 1, 1, 1, 1, 1, 1, 1, 1, 1, 1, 1, 1, 1, 1, 1, 1, 1, 1, 1, 1, 1, 1, 1, 1, 1, 1, 1, 1, 1, 1, 1, 1, 1, 1, 1, 1, 1, 1, 1, 1, 1, 1, 1, 1, 1, 1, 1, 1, 1, 1, 1, 1, 1, 1, 1, 1, 1, 1, 1, 1, 1, 1, 1, 1, 1, 1, 1, 1, 1, 1, 1, 1, 1, 1, 1, 1, 1, 1, 1, 1, 1], (100.0,)\n"
     ]
    }
   ],
   "source": [
    "main()"
   ]
  },
  {
   "cell_type": "code",
   "execution_count": 12,
   "id": "be00caa0-10cd-4fc0-ab4e-5b8d4966e67e",
   "metadata": {},
   "outputs": [],
   "source": [
    "# main()\n",
    "# -- Generation 997 --\n",
    "# -- Generation 998 --\n",
    "# -- Generation 999 --\n",
    "# -- Generation 1000 --\n",
    "#   Min 42.0\n",
    "#   Max 64.0\n",
    "#   Avg 52.78666666666667\n",
    "#   Std 3.9750667359875784"
   ]
  },
  {
   "cell_type": "markdown",
   "id": "38cdb91e-08a9-4709-a9a4-7876b6608954",
   "metadata": {},
   "source": [
    "### testing to see what each bit does"
   ]
  },
  {
   "cell_type": "code",
   "execution_count": 13,
   "id": "fb87251d-9a30-4b63-9bc0-db0e60756332",
   "metadata": {},
   "outputs": [],
   "source": [
    "pop = toolbox.population(n=300)\n",
    "# evaluate the entire population\n",
    "fitnesses = list(map(toolbox.evaluate, pop))\n",
    "for ind, fit in zip(pop, fitnesses):\n",
    "    ind.fitness.values = fit"
   ]
  },
  {
   "cell_type": "code",
   "execution_count": 21,
   "id": "41df7caf-7ea7-495b-bd15-09ffa4e0d583",
   "metadata": {},
   "outputs": [
    {
     "name": "stdout",
     "output_type": "stream",
     "text": [
      "<class 'list'> 300 100\n"
     ]
    }
   ],
   "source": [
    "print(type(pop), len(pop), len(pop[1]))"
   ]
  },
  {
   "cell_type": "code",
   "execution_count": 24,
   "id": "a1fb2819-a180-45fc-a266-5e8d69eeead0",
   "metadata": {},
   "outputs": [
    {
     "name": "stdout",
     "output_type": "stream",
     "text": [
      "40\n",
      "55\n",
      "45\n"
     ]
    }
   ],
   "source": [
    "for i in range(3):\n",
    "    print(sum(pop[i]))"
   ]
  },
  {
   "cell_type": "code",
   "execution_count": 35,
   "id": "7925c994-2ad5-4f93-b697-df07e878fc54",
   "metadata": {},
   "outputs": [
    {
     "name": "stdout",
     "output_type": "stream",
     "text": [
      "<class 'list'> 300\n"
     ]
    }
   ],
   "source": [
    "print(type(fitnesses), len(fitnesses))"
   ]
  },
  {
   "cell_type": "code",
   "execution_count": 36,
   "id": "8388cacb-3f50-4232-b2eb-7634d300c771",
   "metadata": {},
   "outputs": [
    {
     "name": "stdout",
     "output_type": "stream",
     "text": [
      "(40,)\n",
      "(55,)\n",
      "(45,)\n"
     ]
    }
   ],
   "source": [
    "for i in range(3):\n",
    "    print(fitnesses[i])"
   ]
  },
  {
   "cell_type": "code",
   "execution_count": 37,
   "id": "cc7110e1-683a-4451-b9c3-a20f57419a34",
   "metadata": {},
   "outputs": [
    {
     "data": {
      "text/plain": [
       "(52.0,)"
      ]
     },
     "execution_count": 37,
     "metadata": {},
     "output_type": "execute_result"
    }
   ],
   "source": [
    "ind.fitness.values"
   ]
  },
  {
   "cell_type": "code",
   "execution_count": 41,
   "id": "607788d7-144d-4110-a5f4-99aa14cb3796",
   "metadata": {},
   "outputs": [],
   "source": [
    "# sum(fitnesses[:,])"
   ]
  },
  {
   "cell_type": "code",
   "execution_count": null,
   "id": "e1c8e4e5-0328-47ef-9f07-3c97cdb68d57",
   "metadata": {},
   "outputs": [],
   "source": []
  },
  {
   "cell_type": "code",
   "execution_count": 27,
   "id": "b55b4a7b-18de-4749-aace-25250ca7083a",
   "metadata": {},
   "outputs": [],
   "source": [
    "fits = [ind.fitness.values[0] for ind in pop]"
   ]
  },
  {
   "cell_type": "code",
   "execution_count": 29,
   "id": "dda6971b-4c49-448b-b082-4cd511141b14",
   "metadata": {},
   "outputs": [
    {
     "name": "stdout",
     "output_type": "stream",
     "text": [
      "<class 'list'> 300\n"
     ]
    }
   ],
   "source": [
    "print(type(fits), len(fits))"
   ]
  },
  {
   "cell_type": "code",
   "execution_count": 42,
   "id": "b693e7cc-f71e-4447-a879-68dd5dcc280f",
   "metadata": {},
   "outputs": [
    {
     "name": "stdout",
     "output_type": "stream",
     "text": [
      "40.0\n",
      "55.0\n",
      "45.0\n"
     ]
    }
   ],
   "source": [
    "for i in range(3):\n",
    "    print(fits[i])"
   ]
  },
  {
   "cell_type": "code",
   "execution_count": 43,
   "id": "f900ee24-5a4a-4e44-aab2-5f5c54631f0e",
   "metadata": {},
   "outputs": [],
   "source": [
    "# select the next gen individuals\n",
    "offspring = toolbox.select(pop, len(pop))"
   ]
  },
  {
   "cell_type": "code",
   "execution_count": 45,
   "id": "032e16da-47f8-40b6-8ebf-694762683641",
   "metadata": {},
   "outputs": [
    {
     "data": {
      "text/plain": [
       "300"
      ]
     },
     "execution_count": 45,
     "metadata": {},
     "output_type": "execute_result"
    }
   ],
   "source": [
    "len(offspring)"
   ]
  },
  {
   "cell_type": "code",
   "execution_count": 47,
   "id": "fcda4d06-261c-4e44-b644-229a8e3e60fd",
   "metadata": {},
   "outputs": [
    {
     "data": {
      "text/plain": [
       "100"
      ]
     },
     "execution_count": 47,
     "metadata": {},
     "output_type": "execute_result"
    }
   ],
   "source": [
    "len(offspring[0])"
   ]
  },
  {
   "cell_type": "code",
   "execution_count": 48,
   "id": "703c2ce6-a806-4771-bbad-5b5b0975bb8f",
   "metadata": {},
   "outputs": [],
   "source": [
    "# clone the selected individuals\n",
    "offspring = list(map(toolbox.clone, offspring))"
   ]
  },
  {
   "cell_type": "code",
   "execution_count": 49,
   "id": "a340e7a4-0176-498b-bc8b-db724c99fa91",
   "metadata": {},
   "outputs": [
    {
     "data": {
      "text/plain": [
       "300"
      ]
     },
     "execution_count": 49,
     "metadata": {},
     "output_type": "execute_result"
    }
   ],
   "source": [
    "len(offspring)"
   ]
  },
  {
   "cell_type": "code",
   "execution_count": 50,
   "id": "4dbb087c-d782-4df3-b8a3-9d0078240428",
   "metadata": {},
   "outputs": [
    {
     "data": {
      "text/plain": [
       "100"
      ]
     },
     "execution_count": 50,
     "metadata": {},
     "output_type": "execute_result"
    }
   ],
   "source": [
    "len(offspring[0])"
   ]
  },
  {
   "cell_type": "code",
   "execution_count": null,
   "id": "9eda1934-e32e-451c-b367-9e8661dea112",
   "metadata": {},
   "outputs": [],
   "source": []
  }
 ],
 "metadata": {
  "kernelspec": {
   "display_name": "Python 3 (ipykernel)",
   "language": "python",
   "name": "python3"
  },
  "language_info": {
   "codemirror_mode": {
    "name": "ipython",
    "version": 3
   },
   "file_extension": ".py",
   "mimetype": "text/x-python",
   "name": "python",
   "nbconvert_exporter": "python",
   "pygments_lexer": "ipython3",
   "version": "3.8.12"
  }
 },
 "nbformat": 4,
 "nbformat_minor": 5
}
