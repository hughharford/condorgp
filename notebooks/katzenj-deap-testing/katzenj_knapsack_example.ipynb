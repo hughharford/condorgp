{
 "cells": [
  {
   "cell_type": "code",
   "execution_count": 1,
   "id": "cc4fbfcd-5e47-49d9-9fcb-91c12c388069",
   "metadata": {},
   "outputs": [],
   "source": [
    "%load_ext autoreload\n",
    "%autoreload 2"
   ]
  },
  {
   "cell_type": "code",
   "execution_count": 3,
   "id": "62a5fd32-8ade-4b8f-923d-f0fc3c439f4b",
   "metadata": {},
   "outputs": [
    {
     "name": "stdout",
     "output_type": "stream",
     "text": [
      "gen\tnevals\tavg                        \tstd                      \tmin                      \tmax                        \n",
      "0  \t50    \t[ 22.78       210.00877715]\t[ 5.88316241 71.09309649]\t[10.         49.69958685]\t[ 38.         345.35491309]\n",
      "1  \t87    \t[  9.96       145.20790666]\t[ 10.61312395 139.1868852 ]\t[0. 0.]                  \t[ 45.         414.48478381]\n",
      "2  \t91    \t[ 3.26       61.20087478]  \t[  7.44797959 125.53892809]\t[0. 0.]                  \t[ 28.         414.48478381]\n",
      "3  \t88    \t[ 4.6        84.51641114]  \t[  8.57438044 140.51459866]\t[0. 0.]                  \t[ 28.         414.48478381]\n",
      "4  \t92    \t[ 2.4        52.24310488]  \t[  5.82065288 108.88598622]\t[0. 0.]                  \t[ 28.         414.48478381]\n",
      "5  \t87    \t[ 3.66       74.97342258]  \t[  6.99316809 127.02866009]\t[0. 0.]                  \t[ 28.         414.48478381]\n",
      "6  \t82    \t[  5.3        111.43072783]\t[  7.61117599 142.76899122]\t[0. 0.]                  \t[ 28.         414.48478381]\n",
      "7  \t90    \t[ 3.38       76.37304048]  \t[  6.06593769 116.8118772 ]\t[0. 0.]                  \t[ 28.         414.48478381]\n",
      "8  \t86    \t[ 3.12       71.66806998]  \t[  6.50427552 126.61232639]\t[0. 0.]                  \t[ 28.         414.48478381]\n",
      "9  \t89    \t[ 4.28       96.82282974]  \t[  7.61587815 140.68614155]\t[0. 0.]                  \t[ 28.         414.48478381]\n",
      "10 \t91    \t[ 4.66       94.20965502]  \t[  8.72607586 154.59704209]\t[0. 0.]                  \t[ 33.         436.40977463]\n",
      "11 \t94    \t[ 3.38       82.54801261]  \t[  7.42937413 143.83372367]\t[0. 0.]                  \t[ 34.        483.3208272]  \n",
      "12 \t92    \t[  4.72       112.19978461]\t[  8.5370721  164.14270307]\t[0. 0.]                  \t[ 34.        483.3208272]  \n",
      "13 \t89    \t[ 4.14       95.86909694]  \t[  8.66258622 165.78275753]\t[0. 0.]                  \t[ 34.        483.3208272]  \n",
      "14 \t86    \t[  5.7        125.59256851]\t[ 10.31552228 184.80667754]\t[0. 0.]                  \t[ 38.       492.202995]    \n",
      "15 \t86    \t[  9.02      201.1503762]  \t[ 11.73625153 198.65247411]\t[0. 0.]                  \t[ 38.       492.202995]    \n",
      "16 \t90    \t[  6.         121.10597089]\t[ 11.05621997 186.00117203]\t[0. 0.]                  \t[ 38.       492.202995]    \n",
      "17 \t91    \t[  7.02       145.26997395]\t[ 11.35163424 195.13724753]\t[0. 0.]                  \t[ 38.       492.202995]    \n",
      "18 \t87    \t[  8.88       176.19932087]\t[ 12.36064723 206.72218973]\t[0. 0.]                  \t[ 38.       492.202995]    \n",
      "19 \t89    \t[  9.         185.80512507]\t[ 13.14990494 205.56098522]\t[0. 0.]                  \t[ 38.       492.202995]    \n",
      "20 \t90    \t[ 14.26       270.31330726]\t[ 14.86312215 209.42601383]\t[0. 0.]                  \t[ 38.       492.202995]    \n",
      "21 \t89    \t[ 18.56       320.11359043]\t[ 16.31828422 199.16225476]\t[0. 0.]                  \t[ 46.         504.68809431]\n",
      "22 \t92    \t[ 10.44       224.04582546]\t[ 13.46723431 208.40787182]\t[0. 0.]                  \t[ 46.         504.68809431]\n",
      "23 \t89    \t[  7.88       208.66031791]\t[  9.97524937 203.26322025]\t[0. 0.]                  \t[ 31.         551.23467984]\n",
      "24 \t88    \t[  9.48       249.03636129]\t[ 10.43310117 198.35214182]\t[0. 0.]                  \t[ 31.         551.23467984]\n",
      "25 \t89    \t[  9.74       259.22144876]\t[ 10.21921719 193.68124563]\t[0. 0.]                  \t[ 31.         551.23467984]\n",
      "26 \t86    \t[ 12.24       290.69068602]\t[ 11.2045705 198.7052511]  \t[0. 0.]                  \t[ 32.         559.60127088]\n",
      "27 \t87    \t[  6.12       200.12601646]\t[  7.6305701  188.98511995]\t[0. 0.]                  \t[ 32.         559.60127088]\n",
      "28 \t90    \t[  5.46       173.68629391]\t[  8.35035329 194.13713321]\t[0. 0.]                  \t[ 32.         559.60127088]\n",
      "29 \t94    \t[  5.14       153.60942869]\t[  8.53465875 196.89251588]\t[0. 0.]                  \t[ 32.         559.60127088]\n",
      "30 \t93    \t[  5.7        160.04836138]\t[  9.55667306 202.73012538]\t[0. 0.]                  \t[ 36.         568.48343867]\n",
      "31 \t95    \t[  5.7        175.36993944]\t[  8.74585616 196.02530582]\t[0. 0.]                  \t[ 36.         568.48343867]\n",
      "32 \t78    \t[  5.74       175.66843167]\t[  8.75856153 196.28166654]\t[0. 0.]                  \t[ 36.         568.48343867]\n",
      "33 \t91    \t[  6.72       192.14030284]\t[  9.63335871 208.7809893 ]\t[0. 0.]                  \t[ 36.         568.48343867]\n",
      "34 \t92    \t[  7.28       196.69424357]\t[ 10.39815368 216.27735816]\t[0. 0.]                  \t[ 36.         568.48343867]\n",
      "35 \t89    \t[  8.02       231.63771291]\t[  9.80711986 209.75037701]\t[0. 0.]                  \t[ 36.         568.48343867]\n",
      "36 \t90    \t[  8.04       232.59848901]\t[  9.8080783  207.02589326]\t[0. 0.]                  \t[ 36.         568.48343867]\n",
      "37 \t85    \t[  8.72       254.17230119]\t[  9.31244329 204.65321872]\t[0. 0.]                  \t[ 36.         568.48343867]\n",
      "38 \t89    \t[  7.48       207.61125864]\t[  9.98847336 213.49904673]\t[0. 0.]                  \t[ 36.         568.48343867]\n",
      "39 \t92    \t[  9.36      245.9486636]  \t[ 11.3256523  215.87109513]\t[0. 0.]                  \t[ 42.         637.31948207]\n",
      "40 \t92    \t[ 10.98       271.16188039]\t[ 12.40401548 223.61565328]\t[0. 0.]                  \t[ 42.         637.31948207]\n",
      "41 \t93    \t[ 10.8        272.43239273]\t[ 12.13424905 220.99277855]\t[0. 0.]                  \t[ 42.         637.31948207]\n",
      "42 \t91    \t[ 11.86       304.07117362]\t[ 12.03995017 211.20576324]\t[0. 0.]                  \t[ 42.         637.31948207]\n",
      "43 \t93    \t[ 11.38      288.3292047]  \t[ 12.25706327 222.63153571]\t[0. 0.]                  \t[ 42.         637.31948207]\n",
      "44 \t87    \t[ 11.62     302.244937]    \t[ 12.38691245 217.55803025]\t[0. 0.]                  \t[ 42.         637.31948207]\n",
      "45 \t87    \t[ 11.7        297.43893553]\t[ 12.64634335 223.48730523]\t[0. 0.]                  \t[ 42.         637.31948207]\n",
      "46 \t91    \t[ 16.7        368.89821598]\t[ 14.88925787 230.18959314]\t[0. 0.]                  \t[ 47.         707.73092646]\n",
      "47 \t88    \t[ 15.02       344.98372128]\t[ 14.04776139 235.63811278]\t[0. 0.]                  \t[ 47.         707.73092646]\n",
      "48 \t86    \t[ 12.66       307.94602816]\t[ 13.67422393 237.85697412]\t[0. 0.]                  \t[ 47.         707.73092646]\n",
      "49 \t90    \t[ 15.78       366.45278023]\t[ 14.21870599 222.95780236]\t[0. 0.]                  \t[ 47.         707.73092646]\n",
      "50 \t87    \t[ 16.92       386.82265016]\t[ 14.89005037 220.57801282]\t[0. 0.]                  \t[ 47.         707.73092646]\n"
     ]
    }
   ],
   "source": [
    "import random\n",
    "\n",
    "import numpy\n",
    "\n",
    "from deap import algorithms\n",
    "from deap import base\n",
    "from deap import creator\n",
    "from deap import tools\n",
    "\n",
    "IND_INIT_SIZE = 5\n",
    "MAX_ITEM = 50\n",
    "MAX_WEIGHT = 50\n",
    "NBR_ITEMS = 20\n",
    "\n",
    "# To assure reproducibility, the RNG seed is set prior to the items\n",
    "# dict initialization. It is also seeded in main().\n",
    "random.seed(64)\n",
    "\n",
    "# Create the item dictionary: item name is an integer, and value is \n",
    "# a (weight, value) 2-tuple.\n",
    "items = {}\n",
    "# Create random items and store them in the items' dictionary.\n",
    "for i in range(NBR_ITEMS):\n",
    "    items[i] = (random.randint(1, 10), random.uniform(0, 100))\n",
    "\n",
    "creator.create(\"Fitness\", base.Fitness, weights=(-1.0, 1.0))\n",
    "creator.create(\"Individual\", set, fitness=creator.Fitness)\n",
    "\n",
    "toolbox = base.Toolbox()\n",
    "\n",
    "# Attribute generator\n",
    "toolbox.register(\"attr_item\", random.randrange, NBR_ITEMS)\n",
    "\n",
    "# Structure initializers\n",
    "toolbox.register(\"individual\", tools.initRepeat, creator.Individual, \n",
    "    toolbox.attr_item, IND_INIT_SIZE)\n",
    "toolbox.register(\"population\", tools.initRepeat, list, toolbox.individual)\n",
    "\n",
    "def evalKnapsack(individual):\n",
    "    weight = 0.0\n",
    "    value = 0.0\n",
    "    for item in individual:\n",
    "        weight += items[item][0]\n",
    "        value += items[item][1]\n",
    "    if len(individual) > MAX_ITEM or weight > MAX_WEIGHT:\n",
    "        return 10000, 0             # Ensure overweighted bags are dominated\n",
    "    return weight, value\n",
    "\n",
    "def cxSet(ind1, ind2):\n",
    "    \"\"\"Apply a crossover operation on input sets. The first child is the\n",
    "    intersection of the two sets, the second child is the difference of the\n",
    "    two sets.\n",
    "    \"\"\"\n",
    "    temp = set(ind1)                # Used in order to keep type\n",
    "    ind1 &= ind2                    # Intersection (inplace)\n",
    "    ind2 ^= temp                    # Symmetric Difference (inplace)\n",
    "    return ind1, ind2\n",
    "\n",
    "def mutSet(individual):\n",
    "    \"\"\"Mutation that pops or add an element.\"\"\"\n",
    "    if random.random() < 0.5:\n",
    "        if len(individual) > 0:     # We cannot pop from an empty set\n",
    "            individual.remove(random.choice(sorted(tuple(individual))))\n",
    "    else:\n",
    "        individual.add(random.randrange(NBR_ITEMS))\n",
    "    return individual,\n",
    "\n",
    "toolbox.register(\"evaluate\", evalKnapsack)\n",
    "toolbox.register(\"mate\", cxSet)\n",
    "toolbox.register(\"mutate\", mutSet)\n",
    "toolbox.register(\"select\", tools.selNSGA2)\n",
    "\n",
    "def main():\n",
    "    random.seed(64)\n",
    "    NGEN = 50\n",
    "    MU = 50\n",
    "    LAMBDA = 100\n",
    "    CXPB = 0.7\n",
    "    MUTPB = 0.2\n",
    "\n",
    "    pop = toolbox.population(n=MU)\n",
    "    hof = tools.ParetoFront()\n",
    "    stats = tools.Statistics(lambda ind: ind.fitness.values)\n",
    "    stats.register(\"avg\", numpy.mean, axis=0)\n",
    "    stats.register(\"std\", numpy.std, axis=0)\n",
    "    stats.register(\"min\", numpy.min, axis=0)\n",
    "    stats.register(\"max\", numpy.max, axis=0)\n",
    "\n",
    "    algorithms.eaMuPlusLambda(pop, toolbox, MU, LAMBDA, CXPB, MUTPB, NGEN, stats,\n",
    "                              halloffame=hof)\n",
    "\n",
    "    return pop, stats, hof\n",
    "\n",
    "if __name__ == \"__main__\":\n",
    "    main()                 \n"
   ]
  },
  {
   "cell_type": "code",
   "execution_count": null,
   "id": "900bf82d-7373-473e-9648-e8adfe0a3146",
   "metadata": {},
   "outputs": [],
   "source": []
  },
  {
   "cell_type": "code",
   "execution_count": null,
   "id": "db89ae0c-8ee0-4ced-8bbd-78f1e2cef100",
   "metadata": {},
   "outputs": [],
   "source": []
  },
  {
   "cell_type": "code",
   "execution_count": null,
   "id": "00ded174-a2f8-4b75-ae16-ca05b06edb6a",
   "metadata": {},
   "outputs": [],
   "source": []
  },
  {
   "cell_type": "code",
   "execution_count": null,
   "id": "ce5ab51d-e917-4e0b-8136-38409c0ce883",
   "metadata": {},
   "outputs": [],
   "source": []
  },
  {
   "cell_type": "code",
   "execution_count": 4,
   "id": "361cde5d-9371-4d85-9ece-7e00f1caed14",
   "metadata": {},
   "outputs": [],
   "source": [
    "items = {}\n",
    "# Create random items and store them in the items' dictionary.\n",
    "for i in range(NBR_ITEMS):\n",
    "    items[i] = (random.randint(1, 10), random.uniform(0, 100))"
   ]
  },
  {
   "cell_type": "code",
   "execution_count": 5,
   "id": "6721bfb5-2fb0-4aec-82ea-062ef82407f2",
   "metadata": {},
   "outputs": [
    {
     "data": {
      "text/plain": [
       "{0: (6, 31.644859732409923),\n",
       " 1: (1, 48.74675246725424),\n",
       " 2: (7, 45.472609855554445),\n",
       " 3: (5, 34.246551107223254),\n",
       " 4: (8, 56.35245990706097),\n",
       " 5: (10, 91.40316205638871),\n",
       " 6: (8, 27.968622770118255),\n",
       " 7: (1, 90.73467992427196),\n",
       " 8: (2, 67.3161032850833),\n",
       " 9: (10, 81.00698335682517),\n",
       " 10: (3, 88.46917221240186),\n",
       " 11: (4, 45.12194601664837),\n",
       " 12: (9, 44.12985407287396),\n",
       " 13: (7, 38.15971833669624),\n",
       " 14: (1, 49.61903850966544),\n",
       " 15: (7, 30.54939972660804),\n",
       " 16: (8, 71.39567839771145),\n",
       " 17: (6, 21.2326139889929),\n",
       " 18: (7, 19.513684039190192),\n",
       " 19: (7, 2.3164990661486695)}"
      ]
     },
     "execution_count": 5,
     "metadata": {},
     "output_type": "execute_result"
    }
   ],
   "source": [
    "items"
   ]
  },
  {
   "cell_type": "code",
   "execution_count": 7,
   "id": "abd272a9-9941-4dc2-8b03-48f28accf8ca",
   "metadata": {},
   "outputs": [
    {
     "data": {
      "text/plain": [
       "'want to minimise weight of bag but maximise the value\\n\\nfitness judged as minimising weight of bag and maximising value (between -1 and 1?)\\ncreator.create(\"Fitness\", base.Fitness, weights=(-1.0, 1.0))\\n\\ncreator.create(\"Individual\", set, fitness=creator.Fitness)\\n'"
      ]
     },
     "execution_count": 7,
     "metadata": {},
     "output_type": "execute_result"
    }
   ],
   "source": [
    "\"\"\"want to minimise weight of bag but maximise the value\n",
    "\n",
    "fitness judged as minimising weight of bag and maximising value (between -1 and 1?)\n",
    "creator.create(\"Fitness\", base.Fitness, weights=(-1.0, 1.0))\n",
    "\n",
    "creator.create(\"Individual\", set, fitness=creator.Fitness)\n",
    "\"\"\""
   ]
  },
  {
   "cell_type": "code",
   "execution_count": 88,
   "id": "1bfb0669-e781-4b21-98a4-fce2de128305",
   "metadata": {},
   "outputs": [],
   "source": [
    "import random\n",
    "\n",
    "import numpy\n",
    "\n",
    "from deap import algorithms\n",
    "from deap import base\n",
    "from deap import creator\n",
    "from deap import tools"
   ]
  },
  {
   "cell_type": "code",
   "execution_count": 91,
   "id": "cd77d0c9-984f-43ae-9c8b-405691cb3d52",
   "metadata": {},
   "outputs": [],
   "source": [
    "IND_INIT_SIZE = 5\n",
    "MAX_ITEM = 50\n",
    "MAX_WEIGHT = 50\n",
    "NBR_ITEMS = 20"
   ]
  },
  {
   "cell_type": "code",
   "execution_count": 92,
   "id": "193d8d71-464f-43bb-ac9e-eff453f40795",
   "metadata": {},
   "outputs": [],
   "source": [
    "creator.create(\"Fitness\", base.Fitness, weights=(-1.0, 1.0))\n",
    "creator.create(\"Individual\", set, fitness=creator.Fitness)"
   ]
  },
  {
   "cell_type": "code",
   "execution_count": 93,
   "id": "cce91b33-db5e-4047-b641-bea8aa35c8fc",
   "metadata": {},
   "outputs": [],
   "source": [
    "items = {}\n",
    "# Create random items and store them in the items' dictionary.\n",
    "for i in range(NBR_ITEMS):\n",
    "    items[i] = (random.randint(1, 10), random.uniform(0, 100))"
   ]
  },
  {
   "cell_type": "code",
   "execution_count": 94,
   "id": "39a723d3-5f3b-4ba5-befc-8847e5aa2d93",
   "metadata": {},
   "outputs": [
    {
     "data": {
      "text/plain": [
       "{0: (10, 97.46891442063085),\n",
       " 1: (3, 45.647943325474294),\n",
       " 2: (6, 21.322876085371977),\n",
       " 3: (5, 14.235913135078238),\n",
       " 4: (9, 56.18209610952134),\n",
       " 5: (7, 26.282855141324212),\n",
       " 6: (1, 40.25126289840196),\n",
       " 7: (3, 72.26262217176576),\n",
       " 8: (4, 81.9627300904625),\n",
       " 9: (8, 31.984233105610706),\n",
       " 10: (8, 90.67641353796971),\n",
       " 11: (10, 68.48090056502127),\n",
       " 12: (6, 9.627214155635656),\n",
       " 13: (9, 92.70817051841411),\n",
       " 14: (5, 19.940807278602257),\n",
       " 15: (2, 15.6677072313961),\n",
       " 16: (4, 31.221494935786474),\n",
       " 17: (10, 43.65843822245101),\n",
       " 18: (4, 68.84591398518765),\n",
       " 19: (3, 7.706410835266009)}"
      ]
     },
     "execution_count": 94,
     "metadata": {},
     "output_type": "execute_result"
    }
   ],
   "source": [
    "items"
   ]
  },
  {
   "cell_type": "code",
   "execution_count": 16,
   "id": "22e123d9-d511-45e2-93bc-ec87869bdfe9",
   "metadata": {},
   "outputs": [],
   "source": [
    "\"\"\"We now need to initialize a population and the individuals therein. \n",
    "For this, we will need a Toolbox to register our generators since \n",
    "sets can also be created with an input iterable.\"\"\""
   ]
  },
  {
   "cell_type": "code",
   "execution_count": 95,
   "id": "40bfbb31-0e64-405c-a2af-b09833539f8d",
   "metadata": {},
   "outputs": [],
   "source": [
    "toolbox = base.Toolbox()\n",
    "toolbox.register(\"attr_item\", random.randrange, NBR_ITEMS)\n",
    "toolbox.register(\"individual\", tools.initRepeat, creator.Individual, toolbox.attr_item, IND_INIT_SIZE)\n",
    "toolbox.register(\"population\", tools.initRepeat, list, toolbox.individual)"
   ]
  },
  {
   "cell_type": "code",
   "execution_count": 21,
   "id": "458ae7b2-5c2f-49b4-b4db-54649674a387",
   "metadata": {},
   "outputs": [
    {
     "data": {
      "text/plain": [
       "'define evaluation function'"
      ]
     },
     "execution_count": 21,
     "metadata": {},
     "output_type": "execute_result"
    }
   ],
   "source": [
    "\"\"\"define evaluation function\"\"\""
   ]
  },
  {
   "cell_type": "code",
   "execution_count": 96,
   "id": "76a2a778-87a6-4339-8796-984544d34771",
   "metadata": {},
   "outputs": [],
   "source": [
    "def evalKnapsack(individual):\n",
    "    weight = 0.0\n",
    "    value = 0.0\n",
    "    for item in individual:\n",
    "        weight += items[item][0]\n",
    "        value += items[item][1]\n",
    "    if len(individual) > MAX_ITEM or weight > MAX_WEIGHT:\n",
    "        return 10000, 0             # Ensure overweighted bags are dominated\n",
    "    return weight, value"
   ]
  },
  {
   "cell_type": "code",
   "execution_count": 23,
   "id": "cd8ca7e5-8671-43c5-aa6c-5b7715906cc4",
   "metadata": {},
   "outputs": [],
   "source": [
    "toolbox.register(\"evaluate\", evalKnapsack)"
   ]
  },
  {
   "cell_type": "code",
   "execution_count": 45,
   "id": "b66b72f7-7198-4971-b2b9-e280ae0d7adc",
   "metadata": {},
   "outputs": [
    {
     "data": {
      "text/plain": [
       "(10000, 0)"
      ]
     },
     "execution_count": 45,
     "metadata": {},
     "output_type": "execute_result"
    }
   ],
   "source": [
    "evalKnapsack(items)"
   ]
  },
  {
   "cell_type": "code",
   "execution_count": 31,
   "id": "fcdfca7f-846b-4568-90fc-10e9248c2f86",
   "metadata": {},
   "outputs": [
    {
     "data": {
      "text/plain": [
       "2.1413212574759255"
      ]
     },
     "execution_count": 31,
     "metadata": {},
     "output_type": "execute_result"
    }
   ],
   "source": [
    "items[0][1]"
   ]
  },
  {
   "cell_type": "code",
   "execution_count": 40,
   "id": "0f037074-3c1f-473b-be0a-6e3bc5d0265a",
   "metadata": {},
   "outputs": [],
   "source": [
    "weight = 0.0\n",
    "value = 0.0\n",
    "for item in items:\n",
    "    weight += items[item][0]\n",
    "    value += items[item][1]"
   ]
  },
  {
   "cell_type": "code",
   "execution_count": 41,
   "id": "1f92c128-816f-4e1c-b0e5-a5b044dfb549",
   "metadata": {},
   "outputs": [
    {
     "data": {
      "text/plain": [
       "(123.0, 975.0686849972558)"
      ]
     },
     "execution_count": 41,
     "metadata": {},
     "output_type": "execute_result"
    }
   ],
   "source": [
    "weight, value"
   ]
  },
  {
   "cell_type": "code",
   "execution_count": 42,
   "id": "a786ead5-5f1c-4cd4-84d9-7dad1e8fbe06",
   "metadata": {},
   "outputs": [
    {
     "data": {
      "text/plain": [
       "20"
      ]
     },
     "execution_count": 42,
     "metadata": {},
     "output_type": "execute_result"
    }
   ],
   "source": [
    "len(items)"
   ]
  },
  {
   "cell_type": "code",
   "execution_count": null,
   "id": "c245f86f-f525-4bc2-a51f-d7ae282483ce",
   "metadata": {
    "tags": []
   },
   "outputs": [],
   "source": []
  },
  {
   "cell_type": "code",
   "execution_count": null,
   "id": "eeccf0eb-e984-42e1-9488-558e51443cee",
   "metadata": {},
   "outputs": [],
   "source": [
    "\"\"\"Everything is ready for evolution. Ho no wait, since DEAP’s developers are lazy,\n",
    "there is no crossover and mutation operators that can be applied directly on sets. \n",
    "Lets define some. For example, a crossover, producing two children from two parents, \n",
    "could be that the first child is the intersection of the two sets and the second\n",
    "child their absolute difference.\"\"\""
   ]
  },
  {
   "cell_type": "code",
   "execution_count": 97,
   "id": "8f4643d3-9f3f-4f75-ac56-b177c1b4b5c7",
   "metadata": {},
   "outputs": [],
   "source": [
    "def cxSet(ind1, ind2):\n",
    "    \"\"\"Apply a crossover operation on input sets. The first child is the\n",
    "    intersection of the two sets, the second child is the difference of the\n",
    "    two sets.\n",
    "    \"\"\"\n",
    "    temp = set(ind1)                # Used in order to keep type\n",
    "    ind1 &= ind2                    # Intersection (inplace)\n",
    "    ind2 ^= temp                    # Symmetric Difference (inplace)\n",
    "    return ind1, ind2"
   ]
  },
  {
   "cell_type": "code",
   "execution_count": 79,
   "id": "b5d472e6-663b-42ef-8185-06f402e6ae67",
   "metadata": {},
   "outputs": [
    {
     "data": {
      "text/plain": [
       "(set(), {4, 5, 67.63408728359771, 78.2900400131878})"
      ]
     },
     "execution_count": 79,
     "metadata": {},
     "output_type": "execute_result"
    }
   ],
   "source": [
    "cxSet(set(items[0]),set(items[1]))"
   ]
  },
  {
   "cell_type": "code",
   "execution_count": 54,
   "id": "6e4a21ea-778f-48a4-8019-a0f824c005b3",
   "metadata": {},
   "outputs": [
    {
     "data": {
      "text/plain": [
       "tuple"
      ]
     },
     "execution_count": 54,
     "metadata": {},
     "output_type": "execute_result"
    }
   ],
   "source": [
    "type(items[0])"
   ]
  },
  {
   "cell_type": "code",
   "execution_count": 76,
   "id": "16b0db2c-52bd-4ead-a32e-13a1d2122aa3",
   "metadata": {},
   "outputs": [
    {
     "data": {
      "text/plain": [
       "{'1', '2'}"
      ]
     },
     "execution_count": 76,
     "metadata": {},
     "output_type": "execute_result"
    }
   ],
   "source": [
    "a = set('12')\n",
    "b = set('23')\n",
    "a"
   ]
  },
  {
   "cell_type": "code",
   "execution_count": 77,
   "id": "f7082277-fa6f-4fd9-8673-a925689bf592",
   "metadata": {},
   "outputs": [],
   "source": [
    "a ^= b"
   ]
  },
  {
   "cell_type": "code",
   "execution_count": 78,
   "id": "58c16775-2c1d-43e4-abe6-8523cc13a8c9",
   "metadata": {},
   "outputs": [
    {
     "data": {
      "text/plain": [
       "{'1', '3'}"
      ]
     },
     "execution_count": 78,
     "metadata": {},
     "output_type": "execute_result"
    }
   ],
   "source": [
    "a"
   ]
  },
  {
   "cell_type": "code",
   "execution_count": 75,
   "id": "2a9d287c-c05d-4795-ba98-7bafff79d1c4",
   "metadata": {},
   "outputs": [
    {
     "data": {
      "text/plain": [
       "{'2', '3'}"
      ]
     },
     "execution_count": 75,
     "metadata": {},
     "output_type": "execute_result"
    }
   ],
   "source": [
    "b"
   ]
  },
  {
   "cell_type": "code",
   "execution_count": 98,
   "id": "2d0b9140-975b-435e-9c91-b4bff5bfc135",
   "metadata": {},
   "outputs": [],
   "source": [
    "def mutSet(individual):\n",
    "    \"\"\"Mutation that pops or add an element.\"\"\"\n",
    "    if random.random() < 0.5:\n",
    "        if len(individual) > 0:     # We cannot pop from an empty set\n",
    "            individual.remove(random.choice(sorted(tuple(individual))))\n",
    "    else:\n",
    "        individual.add(random.randrange(NBR_ITEMS))\n",
    "    return individual,"
   ]
  },
  {
   "cell_type": "code",
   "execution_count": 102,
   "id": "a1c85463-2c3d-4634-9859-2e31c536eea4",
   "metadata": {},
   "outputs": [
    {
     "ename": "AttributeError",
     "evalue": "'tuple' object has no attribute 'remove'",
     "output_type": "error",
     "traceback": [
      "\u001b[0;31m---------------------------------------------------------------------------\u001b[0m",
      "\u001b[0;31mAttributeError\u001b[0m                            Traceback (most recent call last)",
      "\u001b[0;32m/tmp/ipykernel_1184/1547546473.py\u001b[0m in \u001b[0;36m<module>\u001b[0;34m\u001b[0m\n\u001b[0;32m----> 1\u001b[0;31m \u001b[0mmutSet\u001b[0m\u001b[0;34m(\u001b[0m\u001b[0mitems\u001b[0m\u001b[0;34m[\u001b[0m\u001b[0;36m0\u001b[0m\u001b[0;34m]\u001b[0m\u001b[0;34m)\u001b[0m\u001b[0;34m\u001b[0m\u001b[0;34m\u001b[0m\u001b[0m\n\u001b[0m",
      "\u001b[0;32m/tmp/ipykernel_1184/2789069631.py\u001b[0m in \u001b[0;36mmutSet\u001b[0;34m(individual)\u001b[0m\n\u001b[1;32m      3\u001b[0m     \u001b[0;32mif\u001b[0m \u001b[0mrandom\u001b[0m\u001b[0;34m.\u001b[0m\u001b[0mrandom\u001b[0m\u001b[0;34m(\u001b[0m\u001b[0;34m)\u001b[0m \u001b[0;34m<\u001b[0m \u001b[0;36m0.5\u001b[0m\u001b[0;34m:\u001b[0m\u001b[0;34m\u001b[0m\u001b[0;34m\u001b[0m\u001b[0m\n\u001b[1;32m      4\u001b[0m         \u001b[0;32mif\u001b[0m \u001b[0mlen\u001b[0m\u001b[0;34m(\u001b[0m\u001b[0mindividual\u001b[0m\u001b[0;34m)\u001b[0m \u001b[0;34m>\u001b[0m \u001b[0;36m0\u001b[0m\u001b[0;34m:\u001b[0m     \u001b[0;31m# We cannot pop from an empty set\u001b[0m\u001b[0;34m\u001b[0m\u001b[0;34m\u001b[0m\u001b[0m\n\u001b[0;32m----> 5\u001b[0;31m             \u001b[0mindividual\u001b[0m\u001b[0;34m.\u001b[0m\u001b[0mremove\u001b[0m\u001b[0;34m(\u001b[0m\u001b[0mrandom\u001b[0m\u001b[0;34m.\u001b[0m\u001b[0mchoice\u001b[0m\u001b[0;34m(\u001b[0m\u001b[0msorted\u001b[0m\u001b[0;34m(\u001b[0m\u001b[0mtuple\u001b[0m\u001b[0;34m(\u001b[0m\u001b[0mindividual\u001b[0m\u001b[0;34m)\u001b[0m\u001b[0;34m)\u001b[0m\u001b[0;34m)\u001b[0m\u001b[0;34m)\u001b[0m\u001b[0;34m\u001b[0m\u001b[0;34m\u001b[0m\u001b[0m\n\u001b[0m\u001b[1;32m      6\u001b[0m     \u001b[0;32melse\u001b[0m\u001b[0;34m:\u001b[0m\u001b[0;34m\u001b[0m\u001b[0;34m\u001b[0m\u001b[0m\n\u001b[1;32m      7\u001b[0m         \u001b[0mindividual\u001b[0m\u001b[0;34m.\u001b[0m\u001b[0madd\u001b[0m\u001b[0;34m(\u001b[0m\u001b[0mrandom\u001b[0m\u001b[0;34m.\u001b[0m\u001b[0mrandrange\u001b[0m\u001b[0;34m(\u001b[0m\u001b[0mNBR_ITEMS\u001b[0m\u001b[0;34m)\u001b[0m\u001b[0;34m)\u001b[0m\u001b[0;34m\u001b[0m\u001b[0;34m\u001b[0m\u001b[0m\n",
      "\u001b[0;31mAttributeError\u001b[0m: 'tuple' object has no attribute 'remove'"
     ]
    }
   ],
   "source": [
    "mutSet(items[0])"
   ]
  },
  {
   "cell_type": "code",
   "execution_count": 85,
   "id": "84bf9a0f-625a-4041-97fe-172bfb5a0905",
   "metadata": {},
   "outputs": [],
   "source": [
    "#We then register these operators in the toolbox. Since it is a multi-objective problem, we have selected the NSGA-II selection scheme : selNSGA2()"
   ]
  },
  {
   "cell_type": "code",
   "execution_count": 99,
   "id": "d06b8ef1-a318-4fca-b85c-1397f021deb8",
   "metadata": {},
   "outputs": [],
   "source": [
    "toolbox.register(\"evaluate\", evalKnapsack)\n",
    "toolbox.register(\"mate\", cxSet)\n",
    "toolbox.register(\"mutate\", mutSet)\n",
    "toolbox.register(\"select\", tools.selNSGA2)"
   ]
  },
  {
   "cell_type": "code",
   "execution_count": 100,
   "id": "2dab37a8-6256-4452-9559-3efc67b495dd",
   "metadata": {},
   "outputs": [],
   "source": [
    "def main():\n",
    "    NGEN = 50\n",
    "    MU = 50\n",
    "    LAMBDA = 100\n",
    "    CXPB = 0.7\n",
    "    MUTPB = 0.2\n",
    "\n",
    "    pop = toolbox.population(n=MU)\n",
    "    hof = tools.ParetoFront()\n",
    "    stats = tools.Statistics(lambda ind: ind.fitness.values)\n",
    "    stats.register(\"avg\", numpy.mean, axis=0)\n",
    "    stats.register(\"std\", numpy.std, axis=0)\n",
    "    stats.register(\"min\", numpy.min, axis=0)\n",
    "    stats.register(\"max\", numpy.max, axis=0)\n",
    "\n",
    "    algorithms.eaMuPlusLambda(pop, toolbox, MU, LAMBDA, CXPB, MUTPB, NGEN, stats,\n",
    "                              halloffame=hof)\n",
    "\n",
    "    return pop, stats, hof"
   ]
  },
  {
   "cell_type": "code",
   "execution_count": 101,
   "id": "c951b4c0-6395-4655-9b09-f2482e71a8f8",
   "metadata": {},
   "outputs": [
    {
     "name": "stdout",
     "output_type": "stream",
     "text": [
      "gen\tnevals\tavg                      \tstd                      \tmin                    \tmax                        \n",
      "0  \t50    \t[ 27.86      218.0872547]\t[ 6.53608445 72.75150604]\t[14.        52.9421395]\t[ 47.         368.83143125]\n",
      "1  \t89    \t[  9.28       108.04079645]\t[  9.62089393 113.09360204]\t[0. 0.]                \t[ 28.         368.83143125]\n",
      "2  \t92    \t[ 4.2        58.37964301]  \t[  7.97496081 105.91368226]\t[0. 0.]                \t[ 28.         368.83143125]\n",
      "3  \t92    \t[ 5.02       70.18045134]  \t[  8.95653951 119.02030798]\t[0. 0.]                \t[ 28.         368.83143125]\n",
      "4  \t93    \t[ 5.62      77.8041327]    \t[  9.32285364 124.18026689]\t[0. 0.]                \t[ 28.         368.83143125]\n",
      "5  \t88    \t[ 5.56       79.10662854]  \t[  8.76392606 120.41940883]\t[0. 0.]                \t[ 28.         368.83143125]\n",
      "6  \t91    \t[  7.98       110.48665463]\t[ 10.38939844 136.52670177]\t[0. 0.]                \t[ 34.         406.09083688]\n",
      "7  \t85    \t[ 6.32       95.42623638]  \t[  8.50750257 120.28647087]\t[0. 0.]                \t[ 28.        406.4558503]  \n",
      "8  \t90    \t[ 5.64       87.44946906]  \t[  8.13574828 115.86930956]\t[0. 0.]                \t[ 28.        406.4558503]  \n",
      "9  \t88    \t[ 5.54      83.0192679]    \t[  9.97639213 138.18541965]\t[0. 0.]                \t[ 36.         450.74655797]\n",
      "10 \t91    \t[  7.24       111.07873653]\t[ 10.47389135 144.77295054]\t[0. 0.]                \t[ 36.         450.74655797]\n",
      "11 \t92    \t[ 10.62       159.68691504]\t[ 12.3075424  163.71143726]\t[0. 0.]                \t[ 37.         490.99782087]\n",
      "12 \t86    \t[ 11.24       165.64053394]\t[ 12.93608905 170.56695051]\t[0. 0.]                \t[ 37.         490.99782087]\n",
      "13 \t93    \t[ 12.1       176.3270107]  \t[ 13.56060471 177.86362592]\t[0. 0.]                \t[ 43.         518.16067786]\n",
      "14 \t92    \t[ 11.98       177.50273409]\t[ 13.48256652 178.56604133]\t[0. 0.]                \t[ 43.         518.16067786]\n",
      "15 \t87    \t[ 13.42       199.39465124]\t[ 13.55004059 174.95249132]\t[0. 0.]                \t[ 43.         518.16067786]\n",
      "16 \t93    \t[ 15.72       230.50858167]\t[ 13.84346777 175.17058948]\t[0. 0.]                \t[ 43.         518.16067786]\n",
      "17 \t91    \t[ 16.98       245.76630712]\t[ 14.65672542 178.84348053]\t[0. 0.]                \t[ 47.         534.65625909]\n",
      "18 \t92    \t[ 17.52       256.44843213]\t[ 14.98964976 182.31647819]\t[0. 0.]                \t[ 47.         534.65625909]\n",
      "19 \t90    \t[ 18.9        279.07589019]\t[ 14.22005626 167.13460733]\t[0. 0.]                \t[ 47.         534.65625909]\n",
      "20 \t88    \t[ 13.86       216.74347228]\t[ 14.03710796 171.54716623]\t[0. 0.]                \t[ 47.         534.65625909]\n",
      "21 \t88    \t[ 12.26       194.03412907]\t[ 13.77796792 181.5963575 ]\t[0. 0.]                \t[ 47.         534.65625909]\n",
      "22 \t82    \t[ 13.6        214.53178442]\t[ 13.77679208 179.14938603]\t[0. 0.]                \t[ 47.         534.65625909]\n",
      "23 \t90    \t[ 15.36       240.36053117]\t[ 14.20107038 178.07824524]\t[0. 0.]                \t[ 46.         536.45522894]\n",
      "24 \t86    \t[ 13.14       204.62723108]\t[ 13.98858106 186.53065342]\t[0. 0.]                \t[ 46.         536.45522894]\n",
      "25 \t95    \t[ 16.18       253.40515552]\t[ 13.7210641  174.86535922]\t[0. 0.]                \t[ 46.         536.45522894]\n",
      "26 \t88    \t[ 14.74       242.20456562]\t[ 12.9658166  162.17389155]\t[0. 0.]                \t[ 46.         536.45522894]\n",
      "27 \t91    \t[ 16.7        270.59298972]\t[ 13.20037878 160.55753087]\t[0. 0.]                \t[ 46.         536.45522894]\n",
      "28 \t87    \t[ 15.38       242.35282944]\t[ 14.1603531  179.50680965]\t[0. 0.]                \t[ 46.         536.45522894]\n",
      "29 \t93    \t[ 21.12       320.23931572]\t[ 14.05793726 158.77817872]\t[0. 0.]                \t[ 49.         549.86653392]\n",
      "30 \t82    \t[ 17.06       277.83156076]\t[ 12.37967689 157.94164812]\t[0. 0.]                \t[ 43.         575.39752256]\n",
      "31 \t88    \t[ 18.5        299.37808486]\t[ 12.06523933 145.56420982]\t[0. 0.]                \t[ 43.         575.39752256]\n",
      "32 \t91    \t[ 20.5        320.38836234]\t[ 13.03111661 155.82235655]\t[0. 0.]                \t[ 43.         575.39752256]\n",
      "33 \t88    \t[ 18.24       290.16042389]\t[ 13.18113804 158.48816564]\t[0. 0.]                \t[ 43.         575.39752256]\n",
      "34 \t91    \t[ 19.32       301.90398159]\t[ 13.66080525 160.88475789]\t[0. 0.]                \t[ 43.         575.39752256]\n",
      "35 \t88    \t[ 20.82       320.00456812]\t[ 14.09636833 168.13179545]\t[0. 0.]                \t[ 43.         575.39752256]\n",
      "36 \t92    \t[ 19.84       305.35864202]\t[ 14.20473161 171.80555553]\t[0. 0.]                \t[ 43.         575.39752256]\n",
      "37 \t92    \t[ 19.4        303.04122157]\t[ 13.78259772 168.05867641]\t[0. 0.]                \t[ 43.         575.39752256]\n",
      "38 \t92    \t[ 18.52       292.82263763]\t[ 13.86108221 170.40496581]\t[0. 0.]                \t[ 43.         575.39752256]\n",
      "39 \t93    \t[ 18.98       300.46757283]\t[ 13.82966377 171.27817128]\t[0. 0.]                \t[ 49.         596.72039864]\n",
      "40 \t86    \t[ 20.48       319.69616731]\t[ 13.60917338 166.23006454]\t[0. 0.]                \t[ 49.         596.72039864]\n",
      "41 \t87    \t[ 22.44       342.52785965]\t[ 14.7501322  175.79389693]\t[0. 0.]                \t[ 49.         596.72039864]\n",
      "42 \t88    \t[ 22.42       343.18137661]\t[ 14.73647176 173.75051706]\t[0. 0.]                \t[ 49.         596.72039864]\n",
      "43 \t87    \t[ 23.52       354.47105783]\t[ 15.47028119 182.11148549]\t[0. 0.]                \t[ 49.         596.72039864]\n",
      "44 \t88    \t[ 24.66       365.49978479]\t[ 15.93939773 187.99645816]\t[0. 0.]                \t[ 49.         596.72039864]\n",
      "45 \t91    \t[ 22.1        341.88157457]\t[ 14.82733961 181.52548724]\t[0. 0.]                \t[ 48.         636.71317312]\n",
      "46 \t95    \t[ 21.04       331.72673908]\t[ 14.12792978 175.47158891]\t[0. 0.]                \t[ 48.         636.71317312]\n",
      "47 \t90    \t[ 22.24      348.3426876]  \t[ 13.97649455 168.11835743]\t[0. 0.]                \t[ 48.         636.71317312]\n",
      "48 \t88    \t[ 22.64       351.47706171]\t[ 13.97821162 171.06518177]\t[0. 0.]                \t[ 48.         636.71317312]\n",
      "49 \t93    \t[ 19.84       320.03782428]\t[ 13.60199985 170.60736658]\t[0. 0.]                \t[ 48.         636.71317312]\n",
      "50 \t91    \t[ 20.48       328.72569236]\t[ 14.05594536 172.48287447]\t[0. 0.]                \t[ 48.         636.71317312]\n"
     ]
    },
    {
     "data": {
      "text/plain": [
       "([{0, 1, 6, 7, 8, 10, 13, 15, 16, 18},\n",
       "  Individual(),\n",
       "  {0, 1, 6, 7, 8, 10, 13, 18},\n",
       "  {0, 6, 7, 8, 10, 13, 18},\n",
       "  {0, 1, 6, 7, 8, 10, 13, 16, 18},\n",
       "  {1, 6, 7, 8, 10, 13, 15, 16, 18},\n",
       "  {1, 6, 7, 8, 10, 15, 16, 18},\n",
       "  {6},\n",
       "  {6, 7, 8, 13, 15, 16, 18},\n",
       "  {1, 6, 7, 8, 10, 18},\n",
       "  Individual(),\n",
       "  {6},\n",
       "  {7},\n",
       "  {0, 6, 7, 8, 13, 15, 16, 18},\n",
       "  {6, 7, 8},\n",
       "  {1, 6, 7},\n",
       "  {1, 3, 6, 7, 8, 10, 18},\n",
       "  {1, 3, 6, 7, 8, 10, 18},\n",
       "  {1, 3, 6, 7, 8, 10, 18},\n",
       "  {0, 6, 7, 8, 10, 13, 15, 16, 18},\n",
       "  {6, 7, 8, 15},\n",
       "  {6, 7, 8, 10, 15, 18},\n",
       "  {6, 7, 8, 10, 15, 18},\n",
       "  {6, 7, 8, 10, 15, 18},\n",
       "  {1, 6, 7, 8, 18},\n",
       "  {6, 7, 8, 15, 18},\n",
       "  {1, 6, 7},\n",
       "  {6, 7, 15},\n",
       "  {6, 7, 15},\n",
       "  {6, 7},\n",
       "  {0, 1, 6, 7, 8, 10, 13, 15, 16, 18},\n",
       "  {6, 7, 8, 15},\n",
       "  {1, 6, 7, 8, 15, 18},\n",
       "  {6, 7, 8, 10, 13, 15, 16, 18},\n",
       "  {6, 7, 8},\n",
       "  {1, 6, 7, 8, 18},\n",
       "  {6, 7, 8, 15, 18},\n",
       "  {6, 7, 8, 18},\n",
       "  {6, 7, 8, 13, 18},\n",
       "  {0, 6, 7, 8, 10, 15, 18},\n",
       "  {0, 6, 7, 8, 10, 13, 15, 16, 18},\n",
       "  {1, 6, 7, 8, 10},\n",
       "  {6, 7, 8, 10, 18},\n",
       "  {6, 7, 8, 18},\n",
       "  {1, 6, 7, 8},\n",
       "  {1, 6, 7, 8},\n",
       "  {1, 6, 7, 8},\n",
       "  {1, 6, 7, 8},\n",
       "  {0, 6, 7, 8, 10, 18},\n",
       "  {0, 6, 7, 8, 10, 15, 16, 18}],\n",
       " <deap.tools.support.Statistics at 0x7fa572633f70>,\n",
       " <deap.tools.support.ParetoFront at 0x7fa5726338b0>)"
      ]
     },
     "execution_count": 101,
     "metadata": {},
     "output_type": "execute_result"
    }
   ],
   "source": [
    "main()"
   ]
  },
  {
   "cell_type": "code",
   "execution_count": null,
   "id": "2f1a4ffa-b478-4af8-826c-8b18704e3526",
   "metadata": {},
   "outputs": [],
   "source": []
  }
 ],
 "metadata": {
  "kernelspec": {
   "display_name": "Python 3 (ipykernel)",
   "language": "python",
   "name": "python3"
  },
  "language_info": {
   "codemirror_mode": {
    "name": "ipython",
    "version": 3
   },
   "file_extension": ".py",
   "mimetype": "text/x-python",
   "name": "python",
   "nbconvert_exporter": "python",
   "pygments_lexer": "ipython3",
   "version": "3.8.12"
  }
 },
 "nbformat": 4,
 "nbformat_minor": 5
}
